{
 "cells": [
  {
   "cell_type": "code",
   "execution_count": 1,
   "metadata": {},
   "outputs": [],
   "source": [
    "import pandas as pd"
   ]
  },
  {
   "cell_type": "code",
   "execution_count": 111,
   "metadata": {},
   "outputs": [],
   "source": [
    "uniprot_df = pd.read_csv(\"./data/Uniprot_output.tsv\", sep='\\t')"
   ]
  },
  {
   "cell_type": "code",
   "execution_count": 112,
   "metadata": {},
   "outputs": [],
   "source": [
    "candidates_df = pd.read_excel('./data/candidateGenes_allPhenotypes.xlsx')\n",
    "candidates = candidates_df['Gene'].dropna().to_list()"
   ]
  },
  {
   "cell_type": "code",
   "execution_count": 113,
   "metadata": {},
   "outputs": [],
   "source": [
    "uniprot_df = uniprot_df[uniprot_df['ENSGs'].notna()]\n",
    "uniprot_df = uniprot_df[uniprot_df['GeneNames'].notna()]"
   ]
  },
  {
   "cell_type": "code",
   "execution_count": 114,
   "metadata": {},
   "outputs": [
    {
     "data": {
      "text/html": [
       "<div>\n",
       "<style scoped>\n",
       "    .dataframe tbody tr th:only-of-type {\n",
       "        vertical-align: middle;\n",
       "    }\n",
       "\n",
       "    .dataframe tbody tr th {\n",
       "        vertical-align: top;\n",
       "    }\n",
       "\n",
       "    .dataframe thead th {\n",
       "        text-align: right;\n",
       "    }\n",
       "</style>\n",
       "<table border=\"1\" class=\"dataframe\">\n",
       "  <thead>\n",
       "    <tr style=\"text-align: right;\">\n",
       "      <th></th>\n",
       "      <th>0</th>\n",
       "      <th>1</th>\n",
       "    </tr>\n",
       "  </thead>\n",
       "  <tbody>\n",
       "    <tr>\n",
       "      <th>0</th>\n",
       "      <td>GENE</td>\n",
       "      <td>ENSG</td>\n",
       "    </tr>\n",
       "    <tr>\n",
       "      <th>1</th>\n",
       "      <td>AARS2</td>\n",
       "      <td>ENSG00000124608</td>\n",
       "    </tr>\n",
       "    <tr>\n",
       "      <th>2</th>\n",
       "      <td>ACSBG2</td>\n",
       "      <td>ENSG00000130377</td>\n",
       "    </tr>\n",
       "    <tr>\n",
       "      <th>3</th>\n",
       "      <td>ACTL7A</td>\n",
       "      <td>ENSG00000187003</td>\n",
       "    </tr>\n",
       "    <tr>\n",
       "      <th>4</th>\n",
       "      <td>ACTL9</td>\n",
       "      <td>ENSG00000181786</td>\n",
       "    </tr>\n",
       "  </tbody>\n",
       "</table>\n",
       "</div>"
      ],
      "text/plain": [
       "        0                1\n",
       "0    GENE             ENSG\n",
       "1   AARS2  ENSG00000124608\n",
       "2  ACSBG2  ENSG00000130377\n",
       "3  ACTL7A  ENSG00000187003\n",
       "4   ACTL9  ENSG00000181786"
      ]
     },
     "execution_count": 114,
     "metadata": {},
     "output_type": "execute_result"
    }
   ],
   "source": [
    "d = {}\n",
    "candidates_ensg_list = []\n",
    "\n",
    "d['GENE'] = 'ENSG'\n",
    "\n",
    "for candidate in candidates:\n",
    "    try:\n",
    "        ensg_tmp = uniprot_df[uniprot_df['GeneNames'].str.contains(candidate, na=False)]['ENSGs'].values[0]\n",
    "        ensg = ensg_tmp.split(',')[0]\n",
    "        d[candidate] = ensg\n",
    "        candidates_ensg_list.append(ensg)\n",
    "    except:\n",
    "        continue\n",
    "\n",
    "df = pd.DataFrame.from_dict(d.items())\n",
    "df.head()"
   ]
  },
  {
   "cell_type": "code",
   "execution_count": 115,
   "metadata": {},
   "outputs": [],
   "source": [
    "df.to_csv('./data/candidateGenes.tsv', sep='\\t', header=None, index=False)"
   ]
  },
  {
   "cell_type": "code",
   "execution_count": 116,
   "metadata": {},
   "outputs": [],
   "source": [
    "pd.to_pickle(candidates_ensg_list, \"./data/candidateGenesList.p\")"
   ]
  },
  {
   "cell_type": "markdown",
   "metadata": {},
   "source": [
    "### Create candidadate gene list for MMAF pathology"
   ]
  },
  {
   "cell_type": "code",
   "execution_count": 117,
   "metadata": {},
   "outputs": [],
   "source": [
    "candidates_df = pd.read_excel('./data/candidateGenes_allPhenotypes.xlsx')\n",
    "candidates_df = candidates_df[candidates_df['pathologyID'] == 'MMAF']\n",
    "candidates = candidates_df['Gene'].dropna().to_list()"
   ]
  },
  {
   "cell_type": "code",
   "execution_count": 118,
   "metadata": {},
   "outputs": [
    {
     "data": {
      "text/plain": [
       "53"
      ]
     },
     "execution_count": 118,
     "metadata": {},
     "output_type": "execute_result"
    }
   ],
   "source": [
    "d = {}\n",
    "candidates_ensg_list = []\n",
    "\n",
    "d['GENE'] = 'ENSG'\n",
    "\n",
    "for candidate in candidates:\n",
    "    try:\n",
    "        ensg_tmp = uniprot_df[uniprot_df['GeneNames'].str.contains(candidate, na=False)]['ENSGs'].values[0]\n",
    "        ensg = ensg_tmp.split(',')[0]\n",
    "        d[candidate] = ensg\n",
    "        candidates_ensg_list.append(ensg)\n",
    "    except:\n",
    "        continue\n",
    "\n",
    "df = pd.DataFrame.from_dict(d.items())\n",
    "len(df.index)"
   ]
  },
  {
   "cell_type": "code",
   "execution_count": 119,
   "metadata": {},
   "outputs": [],
   "source": [
    "df.to_csv('./data/candidateGenes_MMAF.tsv', sep='\\t', header=None, index=False)"
   ]
  },
  {
   "cell_type": "code",
   "execution_count": 120,
   "metadata": {},
   "outputs": [],
   "source": [
    "pd.to_pickle(candidates_ensg_list, \"./data/candidateGenesList_MMAF.p\")"
   ]
  },
  {
   "cell_type": "markdown",
   "metadata": {},
   "source": [
    "### Create candidadate gene list for NOA pathology"
   ]
  },
  {
   "cell_type": "code",
   "execution_count": 121,
   "metadata": {},
   "outputs": [],
   "source": [
    "candidates_df = pd.read_excel('./data/candidateGenes_allPhenotypes.xlsx')\n",
    "candidates_df = candidates_df[candidates_df['pathologyID'] =='NOA']\n",
    "candidates = candidates_df['Gene'].dropna().to_list()"
   ]
  },
  {
   "cell_type": "code",
   "execution_count": 122,
   "metadata": {},
   "outputs": [
    {
     "data": {
      "text/plain": [
       "198"
      ]
     },
     "execution_count": 122,
     "metadata": {},
     "output_type": "execute_result"
    }
   ],
   "source": [
    "d = {}\n",
    "candidates_ensg_list = []\n",
    "\n",
    "d['GENE'] = 'ENSG'\n",
    "\n",
    "for candidate in candidates:\n",
    "    try:\n",
    "        ensg_tmp = uniprot_df[uniprot_df['GeneNames'].str.contains(candidate, na=False)]['ENSGs'].values[0]\n",
    "        ensg = ensg_tmp.split(',')[0]\n",
    "        d[candidate] = ensg\n",
    "        candidates_ensg_list.append(ensg)\n",
    "    except:\n",
    "        continue\n",
    "\n",
    "df = pd.DataFrame.from_dict(d.items())\n",
    "len(df.index)"
   ]
  },
  {
   "cell_type": "code",
   "execution_count": 123,
   "metadata": {},
   "outputs": [],
   "source": [
    "df.to_csv('./data/candidateGenes_NOA.tsv', sep='\\t', header=None, index=False)"
   ]
  },
  {
   "cell_type": "code",
   "execution_count": 124,
   "metadata": {},
   "outputs": [],
   "source": [
    "pd.to_pickle(candidates_ensg_list, \"./data/candidateGenesList_NOA.p\")"
   ]
  },
  {
   "cell_type": "code",
   "execution_count": null,
   "metadata": {},
   "outputs": [],
   "source": []
  }
 ],
 "metadata": {
  "kernelspec": {
   "display_name": "pyEnv_PPI",
   "language": "python",
   "name": "python3"
  },
  "language_info": {
   "codemirror_mode": {
    "name": "ipython",
    "version": 3
   },
   "file_extension": ".py",
   "mimetype": "text/x-python",
   "name": "python",
   "nbconvert_exporter": "python",
   "pygments_lexer": "ipython3",
   "version": "3.9.18"
  }
 },
 "nbformat": 4,
 "nbformat_minor": 2
}
