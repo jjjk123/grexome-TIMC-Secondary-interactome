{
 "cells": [
  {
   "cell_type": "code",
   "execution_count": 58,
   "metadata": {},
   "outputs": [],
   "source": [
    "import pandas as pd\n",
    "\n",
    "import networkx as nx\n",
    "\n",
    "from scipy.stats import shapiro \n",
    "\n",
    "import matplotlib.pyplot as plt"
   ]
  },
  {
   "cell_type": "code",
   "execution_count": 2,
   "metadata": {},
   "outputs": [],
   "source": [
    "interactome_df = pd.read_csv('./data/Interactome_human.tsv', sep='\\t', header=None)\n",
    "G = nx.from_pandas_edgelist(interactome_df, 0, 1, edge_attr=True)\n",
    "\n",
    "candidates_MMAF = pd.read_pickle(\"./data/candidateGenesList_MMAF.p\")\n",
    "candidates_NOA = pd.read_pickle(\"./data/candidateGenesList_NOA.p\")\n",
    "\n",
    "nonCandidates_MMAF = [n for n in list(G.nodes) if n not in candidates_MMAF]\n",
    "nonCandidates_NOA = [n for n in list(G.nodes) if n not in candidates_NOA]"
   ]
  },
  {
   "cell_type": "code",
   "execution_count": 5,
   "metadata": {},
   "outputs": [],
   "source": [
    "res_hc_MMAF = nx.harmonic_centrality(G, nbunch=nonCandidates_MMAF, sources=candidates_MMAF)\n",
    "res_hc_MMAF_sorted = dict(sorted(res_hc_MMAF.items(), key=lambda v: v[1], reverse=True))"
   ]
  },
  {
   "cell_type": "code",
   "execution_count": 6,
   "metadata": {},
   "outputs": [],
   "source": [
    "res_hc_NOA = nx.harmonic_centrality(G, nbunch=nonCandidates_NOA, sources=candidates_NOA)\n",
    "res_hc_NOA_sorted = dict(sorted(res_hc_NOA.items(), key=lambda v: v[1], reverse=True))"
   ]
  },
  {
   "cell_type": "code",
   "execution_count": 16,
   "metadata": {},
   "outputs": [
    {
     "data": {
      "text/plain": [
       "Text(0.5, 1.0, 'Harmonic centrality distribution NOA')"
      ]
     },
     "execution_count": 16,
     "metadata": {},
     "output_type": "execute_result"
    },
    {
     "data": {
      "image/png": "[encoded data removed]",
      "text/plain": [
       "<Figure size 800x300 with 2 Axes>"
      ]
     },
     "metadata": {},
     "output_type": "display_data"
    }
   ],
   "source": [
    "# plot harmonic centrality distribution\n",
    "\n",
    "res_hc_MMAF_list = [v for k, v in res_hc_MMAF_sorted.items()]\n",
    "res_hc_NOA_list = [v for k, v in res_hc_NOA_sorted.items()]\n",
    "\n",
    "\n",
    "fig, axs = plt.subplots(1, 2, figsize=(8, 3))\n",
    "\n",
    "bins_MMAF = len(set(res_hc_MMAF_list))\n",
    "axs[0].hist(res_hc_MMAF_list, bins=bins_MMAF)\n",
    "axs[0].set_ylabel(\"Count\")\n",
    "axs[0].set_xlabel(\"Harmonic centrality\")\n",
    "axs[0].set_title(\"Harmonic centrality distribution MMAF\")\n",
    "\n",
    "bins_NOA = len(set(res_hc_NOA_list))\n",
    "axs[1].hist(res_hc_NOA_list, bins=bins_NOA)\n",
    "axs[1].set_xlabel(\"Harmonic centrality\")\n",
    "axs[1].set_title(\"Harmonic centrality distribution NOA\")"
   ]
  },
  {
   "cell_type": "code",
   "execution_count": 21,
   "metadata": {},
   "outputs": [
    {
     "name": "stderr",
     "output_type": "stream",
     "text": [
      "/tmp/ipykernel_19662/2781368214.py:1: UserWarning: scipy.stats.shapiro: For N > 5000, computed p-value may not be accurate. Current N is 14458.\n",
      "  shapiro(res_hc_MMAF_list), shapiro(res_hc_NOA_list)\n",
      "/tmp/ipykernel_19662/2781368214.py:1: UserWarning: scipy.stats.shapiro: For N > 5000, computed p-value may not be accurate. Current N is 14425.\n",
      "  shapiro(res_hc_MMAF_list), shapiro(res_hc_NOA_list)\n"
     ]
    },
    {
     "data": {
      "text/plain": [
       "(ShapiroResult(statistic=0.8406906116505836, pvalue=6.4467614927799876e-80),\n",
       " ShapiroResult(statistic=0.8224171465557699, pvalue=2.68232130306255e-82))"
      ]
     },
     "execution_count": 21,
     "metadata": {},
     "output_type": "execute_result"
    }
   ],
   "source": [
    "shapiro(res_hc_MMAF_list), shapiro(res_hc_NOA_list)"
   ]
  },
  {
   "cell_type": "code",
   "execution_count": 47,
   "metadata": {},
   "outputs": [],
   "source": [
    "df_MMAF = pd.DataFrame.from_dict(res_hc_MMAF_sorted, orient='index', columns=['HC_MMAF'])\n",
    "df_NOA = pd.DataFrame.from_dict(res_hc_NOA_sorted, orient='index', columns=['HC_NOA'])"
   ]
  },
  {
   "cell_type": "code",
   "execution_count": 48,
   "metadata": {},
   "outputs": [
    {
     "data": {
      "text/plain": [
       "(14458, 14425)"
      ]
     },
     "execution_count": 48,
     "metadata": {},
     "output_type": "execute_result"
    }
   ],
   "source": [
    "len(df_MMAF.index), len(df_NOA.index)"
   ]
  },
  {
   "cell_type": "code",
   "execution_count": 81,
   "metadata": {},
   "outputs": [],
   "source": [
    "df = pd.merge(df_MMAF, df_NOA, left_index=True, right_index=True, how='outer')"
   ]
  },
  {
   "cell_type": "code",
   "execution_count": 82,
   "metadata": {},
   "outputs": [],
   "source": [
    "df['DIFF'] = abs(df['HC_MMAF'] - df['HC_NOA'])"
   ]
  },
  {
   "cell_type": "code",
   "execution_count": 97,
   "metadata": {},
   "outputs": [
    {
     "data": {
      "text/html": [
       "<div>\n",
       "<style scoped>\n",
       "    .dataframe tbody tr th:only-of-type {\n",
       "        vertical-align: middle;\n",
       "    }\n",
       "\n",
       "    .dataframe tbody tr th {\n",
       "        vertical-align: top;\n",
       "    }\n",
       "\n",
       "    .dataframe thead th {\n",
       "        text-align: right;\n",
       "    }\n",
       "</style>\n",
       "<table border=\"1\" class=\"dataframe\">\n",
       "  <thead>\n",
       "    <tr style=\"text-align: right;\">\n",
       "      <th></th>\n",
       "      <th>HC_MMAF</th>\n",
       "      <th>HC_NOA</th>\n",
       "      <th>DIFF</th>\n",
       "    </tr>\n",
       "  </thead>\n",
       "  <tbody>\n",
       "    <tr>\n",
       "      <th>ENSG00000170365</th>\n",
       "      <td>1.916667</td>\n",
       "      <td>15.166667</td>\n",
       "      <td>13.250000</td>\n",
       "    </tr>\n",
       "    <tr>\n",
       "      <th>ENSG00000097007</th>\n",
       "      <td>1.950000</td>\n",
       "      <td>14.783333</td>\n",
       "      <td>12.833333</td>\n",
       "    </tr>\n",
       "    <tr>\n",
       "      <th>ENSG00000163513</th>\n",
       "      <td>2.000000</td>\n",
       "      <td>14.666667</td>\n",
       "      <td>12.666667</td>\n",
       "    </tr>\n",
       "    <tr>\n",
       "      <th>ENSG00000170312</th>\n",
       "      <td>2.000000</td>\n",
       "      <td>14.500000</td>\n",
       "      <td>12.500000</td>\n",
       "    </tr>\n",
       "    <tr>\n",
       "      <th>ENSG00000112062</th>\n",
       "      <td>1.916667</td>\n",
       "      <td>14.333333</td>\n",
       "      <td>12.416667</td>\n",
       "    </tr>\n",
       "    <tr>\n",
       "      <th>...</th>\n",
       "      <td>...</td>\n",
       "      <td>...</td>\n",
       "      <td>...</td>\n",
       "    </tr>\n",
       "    <tr>\n",
       "      <th>ENSG00000187713</th>\n",
       "      <td>1.683333</td>\n",
       "      <td>NaN</td>\n",
       "      <td>NaN</td>\n",
       "    </tr>\n",
       "    <tr>\n",
       "      <th>ENSG00000188738</th>\n",
       "      <td>NaN</td>\n",
       "      <td>8.416667</td>\n",
       "      <td>NaN</td>\n",
       "    </tr>\n",
       "    <tr>\n",
       "      <th>ENSG00000196584</th>\n",
       "      <td>1.766667</td>\n",
       "      <td>NaN</td>\n",
       "      <td>NaN</td>\n",
       "    </tr>\n",
       "    <tr>\n",
       "      <th>ENSG00000204410</th>\n",
       "      <td>1.733333</td>\n",
       "      <td>NaN</td>\n",
       "      <td>NaN</td>\n",
       "    </tr>\n",
       "    <tr>\n",
       "      <th>ENSG00000269964</th>\n",
       "      <td>2.116667</td>\n",
       "      <td>NaN</td>\n",
       "      <td>NaN</td>\n",
       "    </tr>\n",
       "  </tbody>\n",
       "</table>\n",
       "<p>14465 rows × 3 columns</p>\n",
       "</div>"
      ],
      "text/plain": [
       "                  HC_MMAF     HC_NOA       DIFF\n",
       "ENSG00000170365  1.916667  15.166667  13.250000\n",
       "ENSG00000097007  1.950000  14.783333  12.833333\n",
       "ENSG00000163513  2.000000  14.666667  12.666667\n",
       "ENSG00000170312  2.000000  14.500000  12.500000\n",
       "ENSG00000112062  1.916667  14.333333  12.416667\n",
       "...                   ...        ...        ...\n",
       "ENSG00000187713  1.683333        NaN        NaN\n",
       "ENSG00000188738       NaN   8.416667        NaN\n",
       "ENSG00000196584  1.766667        NaN        NaN\n",
       "ENSG00000204410  1.733333        NaN        NaN\n",
       "ENSG00000269964  2.116667        NaN        NaN\n",
       "\n",
       "[14465 rows x 3 columns]"
      ]
     },
     "execution_count": 97,
     "metadata": {},
     "output_type": "execute_result"
    }
   ],
   "source": [
    "# non-candidate genes potentially responsible for NOA\n",
    "df.sort_values(by='DIFF', ascending=False)"
   ]
  },
  {
   "cell_type": "code",
   "execution_count": 100,
   "metadata": {},
   "outputs": [
    {
     "data": {
      "text/html": [
       "<div>\n",
       "<style scoped>\n",
       "    .dataframe tbody tr th:only-of-type {\n",
       "        vertical-align: middle;\n",
       "    }\n",
       "\n",
       "    .dataframe tbody tr th {\n",
       "        vertical-align: top;\n",
       "    }\n",
       "\n",
       "    .dataframe thead th {\n",
       "        text-align: right;\n",
       "    }\n",
       "</style>\n",
       "<table border=\"1\" class=\"dataframe\">\n",
       "  <thead>\n",
       "    <tr style=\"text-align: right;\">\n",
       "      <th></th>\n",
       "      <th>HC_MMAF</th>\n",
       "      <th>HC_NOA</th>\n",
       "      <th>DIFF</th>\n",
       "    </tr>\n",
       "  </thead>\n",
       "  <tbody>\n",
       "    <tr>\n",
       "      <th>ENSG00000155875</th>\n",
       "      <td>3.083333</td>\n",
       "      <td>12.616667</td>\n",
       "      <td>9.533333</td>\n",
       "    </tr>\n",
       "    <tr>\n",
       "      <th>ENSG00000172053</th>\n",
       "      <td>3.083333</td>\n",
       "      <td>13.166667</td>\n",
       "      <td>10.083333</td>\n",
       "    </tr>\n",
       "    <tr>\n",
       "      <th>ENSG00000174099</th>\n",
       "      <td>3.000000</td>\n",
       "      <td>12.816667</td>\n",
       "      <td>9.816667</td>\n",
       "    </tr>\n",
       "    <tr>\n",
       "      <th>ENSG00000166886</th>\n",
       "      <td>3.000000</td>\n",
       "      <td>12.816667</td>\n",
       "      <td>9.816667</td>\n",
       "    </tr>\n",
       "    <tr>\n",
       "      <th>ENSG00000068024</th>\n",
       "      <td>3.000000</td>\n",
       "      <td>12.950000</td>\n",
       "      <td>9.950000</td>\n",
       "    </tr>\n",
       "    <tr>\n",
       "      <th>...</th>\n",
       "      <td>...</td>\n",
       "      <td>...</td>\n",
       "      <td>...</td>\n",
       "    </tr>\n",
       "    <tr>\n",
       "      <th>ENSG00000124721</th>\n",
       "      <td>NaN</td>\n",
       "      <td>9.750000</td>\n",
       "      <td>NaN</td>\n",
       "    </tr>\n",
       "    <tr>\n",
       "      <th>ENSG00000129646</th>\n",
       "      <td>NaN</td>\n",
       "      <td>10.883333</td>\n",
       "      <td>NaN</td>\n",
       "    </tr>\n",
       "    <tr>\n",
       "      <th>ENSG00000130413</th>\n",
       "      <td>NaN</td>\n",
       "      <td>9.800000</td>\n",
       "      <td>NaN</td>\n",
       "    </tr>\n",
       "    <tr>\n",
       "      <th>ENSG00000137473</th>\n",
       "      <td>NaN</td>\n",
       "      <td>9.833333</td>\n",
       "      <td>NaN</td>\n",
       "    </tr>\n",
       "    <tr>\n",
       "      <th>ENSG00000188738</th>\n",
       "      <td>NaN</td>\n",
       "      <td>8.416667</td>\n",
       "      <td>NaN</td>\n",
       "    </tr>\n",
       "  </tbody>\n",
       "</table>\n",
       "<p>14465 rows × 3 columns</p>\n",
       "</div>"
      ],
      "text/plain": [
       "                  HC_MMAF     HC_NOA       DIFF\n",
       "ENSG00000155875  3.083333  12.616667   9.533333\n",
       "ENSG00000172053  3.083333  13.166667  10.083333\n",
       "ENSG00000174099  3.000000  12.816667   9.816667\n",
       "ENSG00000166886  3.000000  12.816667   9.816667\n",
       "ENSG00000068024  3.000000  12.950000   9.950000\n",
       "...                   ...        ...        ...\n",
       "ENSG00000124721       NaN   9.750000        NaN\n",
       "ENSG00000129646       NaN  10.883333        NaN\n",
       "ENSG00000130413       NaN   9.800000        NaN\n",
       "ENSG00000137473       NaN   9.833333        NaN\n",
       "ENSG00000188738       NaN   8.416667        NaN\n",
       "\n",
       "[14465 rows x 3 columns]"
      ]
     },
     "execution_count": 100,
     "metadata": {},
     "output_type": "execute_result"
    }
   ],
   "source": [
    "df.sort_values(by=['HC_MMAF', 'DIFF'], ascending=[False, True])"
   ]
  },
  {
   "cell_type": "code",
   "execution_count": null,
   "metadata": {},
   "outputs": [],
   "source": []
  }
 ],
 "metadata": {
  "kernelspec": {
   "display_name": "pyEnv_PPI",
   "language": "python",
   "name": "python3"
  },
  "language_info": {
   "codemirror_mode": {
    "name": "ipython",
    "version": 3
   },
   "file_extension": ".py",
   "mimetype": "text/x-python",
   "name": "python",
   "nbconvert_exporter": "python",
   "pygments_lexer": "ipython3",
   "version": "3.9.18"
  }
 },
 "nbformat": 4,
 "nbformat_minor": 2
}
