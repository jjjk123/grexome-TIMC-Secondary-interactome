{
 "cells": [
  {
   "cell_type": "code",
   "execution_count": 23,
   "metadata": {},
   "outputs": [],
   "source": [
    "import pandas as pd\n",
    "import numpy as np\n",
    "\n",
    "import networkx as nx\n",
    "\n",
    "import matplotlib.pyplot as plt\n",
    "import seaborn as sns\n",
    "\n",
    "from tqdm import tqdm"
   ]
  },
  {
   "cell_type": "code",
   "execution_count": 24,
   "metadata": {},
   "outputs": [],
   "source": [
    "def candidates_in_neighbourhood(G, candidates, node):\n",
    "    sub_G = G.subgraph([n for n in G.neighbors(node)])\n",
    "    candidates_in_neighbourhood = [x for x in sub_G.nodes() if x in candidates]\n",
    "    if candidates_in_neighbourhood:\n",
    "        return candidates_in_neighbourhood\n",
    "    else:\n",
    "        return []"
   ]
  },
  {
   "cell_type": "code",
   "execution_count": 25,
   "metadata": {},
   "outputs": [],
   "source": [
    "def candidates_at_distance(dict_distances, node, d):\n",
    "    return len([dist for dist in dict_distances.get(node).values() if dist == d])"
   ]
  },
  {
   "cell_type": "code",
   "execution_count": 26,
   "metadata": {},
   "outputs": [
    {
     "name": "stdout",
     "output_type": "stream",
     "text": [
      "Interactome size: 14465, number of MMAF candidates in interactome: 40\n"
     ]
    }
   ],
   "source": [
    "interactome_df = pd.read_csv('./data/Interactome_human.tsv', sep='\\t', header=None)\n",
    "candidates = pd.read_pickle(\"./data/candidateGenesList_MMAF.p\")\n",
    "\n",
    "G = nx.from_pandas_edgelist(interactome_df, 0, 1, edge_attr=True)\n",
    "\n",
    "candidates_MMAF = list(set([c for c in candidates if c in G.nodes()]))\n",
    "nonCandidates_MMAF = [n for n in G.nodes() if n not in candidates_MMAF] \n",
    "\n",
    "\n",
    "print(f\"Interactome size: {len(G.nodes())}, number of MMAF candidates in interactome: {len(candidates_MMAF)}\")"
   ]
  },
  {
   "cell_type": "code",
   "execution_count": 27,
   "metadata": {},
   "outputs": [
    {
     "name": "stderr",
     "output_type": "stream",
     "text": [
      "  0%|          | 0/14425 [00:00<?, ?it/s]"
     ]
    },
    {
     "name": "stderr",
     "output_type": "stream",
     "text": [
      "100%|██████████| 14425/14425 [00:27<00:00, 530.35it/s]"
     ]
    },
    {
     "name": "stdout",
     "output_type": "stream",
     "text": [
      "Longest distance between MMAF and non-MMAF gene: 10\n"
     ]
    },
    {
     "name": "stderr",
     "output_type": "stream",
     "text": [
      "\n"
     ]
    }
   ],
   "source": [
    "# find distances between MMAF and non-MMAF genes\n",
    "dict_distances = {}\n",
    "longest_distance = 0\n",
    "\n",
    "for source_node in tqdm(nonCandidates_MMAF):\n",
    "    dict_tmp = {}\n",
    "\n",
    "    for target_node in candidates_MMAF:\n",
    "        try:\n",
    "            distance = nx.shortest_path_length(G, source_node, target_node)\n",
    "            dict_tmp[target_node] = distance\n",
    "\n",
    "            if distance > longest_distance:\n",
    "                longest_distance = distance\n",
    "        except:\n",
    "            continue\n",
    "\n",
    "    dict_distances[source_node] = dict_tmp\n",
    "\n",
    "print(f\"Longest distance between MMAF and non-MMAF gene: {longest_distance}\")"
   ]
  },
  {
   "cell_type": "markdown",
   "metadata": {},
   "source": [
    "### Calculate new centrality for every non-MMAF gene"
   ]
  },
  {
   "cell_type": "code",
   "execution_count": 28,
   "metadata": {},
   "outputs": [],
   "source": [
    "# set alpha parameter\n",
    "alpha = 0.5"
   ]
  },
  {
   "cell_type": "code",
   "execution_count": 104,
   "metadata": {},
   "outputs": [
    {
     "name": "stderr",
     "output_type": "stream",
     "text": [
      "100%|██████████| 14425/14425 [01:37<00:00, 148.41it/s]\n"
     ]
    }
   ],
   "source": [
    "# calculate new centrality for every non-MMAF gene\n",
    "dict_scores = {}\n",
    "\n",
    "for i in tqdm(range(len(nonCandidates_MMAF))):\n",
    "    node = nonCandidates_MMAF[i]\n",
    "    score = 0\n",
    "\n",
    "    to_A = [node] + list(set(candidates_MMAF))\n",
    "    A = nx.adjacency_matrix(G, to_A).todense()\n",
    "\n",
    "    for j in range(len(candidates_MMAF)):\n",
    "        candidate = candidates_MMAF[j]\n",
    "        \n",
    "        try:\n",
    "            d = nx.shortest_path_length(G, node, candidate)\n",
    "            score += alpha ** d * np.linalg.matrix_power(A, d)[0][j+1]\n",
    "\n",
    "        except:\n",
    "            continue\n",
    "\n",
    "        \n",
    "    \n",
    "    dict_scores[node] = round(score, 7)\n",
    "    \n",
    "dict_scores_sorted = dict(sorted(dict_scores.items(), key=lambda v: v[1], reverse=True))"
   ]
  },
  {
   "cell_type": "code",
   "execution_count": 105,
   "metadata": {},
   "outputs": [],
   "source": [
    "# get more info about each node (degree, candidates at distances)\n",
    "for n, score in dict_scores_sorted.items():\n",
    "    dict_scores_sorted[n] = [round(score, 7), \n",
    "                             G.degree(n), \n",
    "                             candidates_at_distance(dict_distances, n, 1), \n",
    "                             candidates_at_distance(dict_distances, n, 2),\n",
    "                             candidates_at_distance(dict_distances, n, 3),\n",
    "                             candidates_at_distance(dict_distances, n, 4)]\n",
    "\n",
    "df = pd.DataFrame.from_dict(dict_scores_sorted, \n",
    "                            orient='index', \n",
    "                            columns=['score', 'degree', 'candidates at d=1', 'candidates at d=2', 'candidates at d=3', 'candidates at d=4'])"
   ]
  },
  {
   "cell_type": "code",
   "execution_count": 106,
   "metadata": {},
   "outputs": [],
   "source": [
    "# get gene names to ENSG\n",
    "genes_df = pd.read_csv(\"./data/canonicalGenes.tsv\", sep='\\t')\n",
    "\n",
    "df_res = df.merge(genes_df, left_index=True, right_on='ENSG')\n",
    "df_res.sort_values(by='score', inplace=True, ascending=False)\n",
    "df_res.reset_index(inplace=True, drop=True)"
   ]
  },
  {
   "cell_type": "code",
   "execution_count": 107,
   "metadata": {},
   "outputs": [
    {
     "data": {
      "text/html": [
       "<div>\n",
       "<style scoped>\n",
       "    .dataframe tbody tr th:only-of-type {\n",
       "        vertical-align: middle;\n",
       "    }\n",
       "\n",
       "    .dataframe tbody tr th {\n",
       "        vertical-align: top;\n",
       "    }\n",
       "\n",
       "    .dataframe thead th {\n",
       "        text-align: right;\n",
       "    }\n",
       "</style>\n",
       "<table border=\"1\" class=\"dataframe\">\n",
       "  <thead>\n",
       "    <tr style=\"text-align: right;\">\n",
       "      <th></th>\n",
       "      <th>score</th>\n",
       "      <th>degree</th>\n",
       "      <th>candidates at d=1</th>\n",
       "      <th>candidates at d=2</th>\n",
       "      <th>candidates at d=3</th>\n",
       "      <th>candidates at d=4</th>\n",
       "      <th>GENE</th>\n",
       "      <th>ENSG</th>\n",
       "    </tr>\n",
       "  </thead>\n",
       "  <tbody>\n",
       "    <tr>\n",
       "      <th>0</th>\n",
       "      <td>1.750</td>\n",
       "      <td>81</td>\n",
       "      <td>3</td>\n",
       "      <td>4</td>\n",
       "      <td>19</td>\n",
       "      <td>12</td>\n",
       "      <td>TXLNA</td>\n",
       "      <td>ENSG00000084652</td>\n",
       "    </tr>\n",
       "    <tr>\n",
       "      <th>1</th>\n",
       "      <td>1.500</td>\n",
       "      <td>30</td>\n",
       "      <td>3</td>\n",
       "      <td>2</td>\n",
       "      <td>13</td>\n",
       "      <td>17</td>\n",
       "      <td>KIAA1328</td>\n",
       "      <td>ENSG00000150477</td>\n",
       "    </tr>\n",
       "    <tr>\n",
       "      <th>2</th>\n",
       "      <td>1.500</td>\n",
       "      <td>52</td>\n",
       "      <td>2</td>\n",
       "      <td>4</td>\n",
       "      <td>14</td>\n",
       "      <td>19</td>\n",
       "      <td>BORCS6</td>\n",
       "      <td>ENSG00000196544</td>\n",
       "    </tr>\n",
       "    <tr>\n",
       "      <th>3</th>\n",
       "      <td>1.250</td>\n",
       "      <td>62</td>\n",
       "      <td>2</td>\n",
       "      <td>5</td>\n",
       "      <td>20</td>\n",
       "      <td>12</td>\n",
       "      <td>KRT18</td>\n",
       "      <td>ENSG00000111057</td>\n",
       "    </tr>\n",
       "    <tr>\n",
       "      <th>4</th>\n",
       "      <td>1.250</td>\n",
       "      <td>47</td>\n",
       "      <td>2</td>\n",
       "      <td>4</td>\n",
       "      <td>16</td>\n",
       "      <td>17</td>\n",
       "      <td>TSC22D4</td>\n",
       "      <td>ENSG00000166925</td>\n",
       "    </tr>\n",
       "    <tr>\n",
       "      <th>5</th>\n",
       "      <td>1.250</td>\n",
       "      <td>103</td>\n",
       "      <td>2</td>\n",
       "      <td>6</td>\n",
       "      <td>15</td>\n",
       "      <td>16</td>\n",
       "      <td>NINL</td>\n",
       "      <td>ENSG00000101004</td>\n",
       "    </tr>\n",
       "    <tr>\n",
       "      <th>6</th>\n",
       "      <td>1.250</td>\n",
       "      <td>44</td>\n",
       "      <td>2</td>\n",
       "      <td>4</td>\n",
       "      <td>12</td>\n",
       "      <td>21</td>\n",
       "      <td>CEP44</td>\n",
       "      <td>ENSG00000164118</td>\n",
       "    </tr>\n",
       "    <tr>\n",
       "      <th>7</th>\n",
       "      <td>1.250</td>\n",
       "      <td>74</td>\n",
       "      <td>2</td>\n",
       "      <td>2</td>\n",
       "      <td>17</td>\n",
       "      <td>18</td>\n",
       "      <td>MED4</td>\n",
       "      <td>ENSG00000136146</td>\n",
       "    </tr>\n",
       "    <tr>\n",
       "      <th>8</th>\n",
       "      <td>1.250</td>\n",
       "      <td>32</td>\n",
       "      <td>2</td>\n",
       "      <td>1</td>\n",
       "      <td>12</td>\n",
       "      <td>23</td>\n",
       "      <td>CPSF7</td>\n",
       "      <td>ENSG00000149532</td>\n",
       "    </tr>\n",
       "    <tr>\n",
       "      <th>9</th>\n",
       "      <td>1.250</td>\n",
       "      <td>84</td>\n",
       "      <td>2</td>\n",
       "      <td>4</td>\n",
       "      <td>19</td>\n",
       "      <td>13</td>\n",
       "      <td>VPS52</td>\n",
       "      <td>ENSG00000223501</td>\n",
       "    </tr>\n",
       "    <tr>\n",
       "      <th>10</th>\n",
       "      <td>1.250</td>\n",
       "      <td>40</td>\n",
       "      <td>2</td>\n",
       "      <td>2</td>\n",
       "      <td>18</td>\n",
       "      <td>17</td>\n",
       "      <td>GPRASP2</td>\n",
       "      <td>ENSG00000158301</td>\n",
       "    </tr>\n",
       "    <tr>\n",
       "      <th>11</th>\n",
       "      <td>1.250</td>\n",
       "      <td>45</td>\n",
       "      <td>2</td>\n",
       "      <td>4</td>\n",
       "      <td>16</td>\n",
       "      <td>17</td>\n",
       "      <td>PNMA5</td>\n",
       "      <td>ENSG00000198883</td>\n",
       "    </tr>\n",
       "    <tr>\n",
       "      <th>12</th>\n",
       "      <td>1.250</td>\n",
       "      <td>108</td>\n",
       "      <td>2</td>\n",
       "      <td>3</td>\n",
       "      <td>16</td>\n",
       "      <td>18</td>\n",
       "      <td>CCNDBP1</td>\n",
       "      <td>ENSG00000166946</td>\n",
       "    </tr>\n",
       "    <tr>\n",
       "      <th>13</th>\n",
       "      <td>1.125</td>\n",
       "      <td>33</td>\n",
       "      <td>2</td>\n",
       "      <td>4</td>\n",
       "      <td>17</td>\n",
       "      <td>16</td>\n",
       "      <td>SAXO1</td>\n",
       "      <td>ENSG00000155875</td>\n",
       "    </tr>\n",
       "    <tr>\n",
       "      <th>14</th>\n",
       "      <td>1.000</td>\n",
       "      <td>88</td>\n",
       "      <td>2</td>\n",
       "      <td>4</td>\n",
       "      <td>22</td>\n",
       "      <td>11</td>\n",
       "      <td>RINT1</td>\n",
       "      <td>ENSG00000135249</td>\n",
       "    </tr>\n",
       "    <tr>\n",
       "      <th>15</th>\n",
       "      <td>1.000</td>\n",
       "      <td>47</td>\n",
       "      <td>2</td>\n",
       "      <td>4</td>\n",
       "      <td>14</td>\n",
       "      <td>19</td>\n",
       "      <td>KRT16</td>\n",
       "      <td>ENSG00000186832</td>\n",
       "    </tr>\n",
       "    <tr>\n",
       "      <th>16</th>\n",
       "      <td>1.000</td>\n",
       "      <td>48</td>\n",
       "      <td>2</td>\n",
       "      <td>7</td>\n",
       "      <td>12</td>\n",
       "      <td>17</td>\n",
       "      <td>CWF19L2</td>\n",
       "      <td>ENSG00000152404</td>\n",
       "    </tr>\n",
       "    <tr>\n",
       "      <th>17</th>\n",
       "      <td>1.000</td>\n",
       "      <td>14</td>\n",
       "      <td>2</td>\n",
       "      <td>2</td>\n",
       "      <td>7</td>\n",
       "      <td>18</td>\n",
       "      <td>CEP97</td>\n",
       "      <td>ENSG00000182504</td>\n",
       "    </tr>\n",
       "    <tr>\n",
       "      <th>18</th>\n",
       "      <td>1.000</td>\n",
       "      <td>59</td>\n",
       "      <td>2</td>\n",
       "      <td>3</td>\n",
       "      <td>18</td>\n",
       "      <td>15</td>\n",
       "      <td>LHX3</td>\n",
       "      <td>ENSG00000107187</td>\n",
       "    </tr>\n",
       "    <tr>\n",
       "      <th>19</th>\n",
       "      <td>1.000</td>\n",
       "      <td>59</td>\n",
       "      <td>2</td>\n",
       "      <td>6</td>\n",
       "      <td>16</td>\n",
       "      <td>15</td>\n",
       "      <td>CDR2</td>\n",
       "      <td>ENSG00000140743</td>\n",
       "    </tr>\n",
       "  </tbody>\n",
       "</table>\n",
       "</div>"
      ],
      "text/plain": [
       "    score  degree  candidates at d=1  candidates at d=2  candidates at d=3  \\\n",
       "0   1.750      81                  3                  4                 19   \n",
       "1   1.500      30                  3                  2                 13   \n",
       "2   1.500      52                  2                  4                 14   \n",
       "3   1.250      62                  2                  5                 20   \n",
       "4   1.250      47                  2                  4                 16   \n",
       "5   1.250     103                  2                  6                 15   \n",
       "6   1.250      44                  2                  4                 12   \n",
       "7   1.250      74                  2                  2                 17   \n",
       "8   1.250      32                  2                  1                 12   \n",
       "9   1.250      84                  2                  4                 19   \n",
       "10  1.250      40                  2                  2                 18   \n",
       "11  1.250      45                  2                  4                 16   \n",
       "12  1.250     108                  2                  3                 16   \n",
       "13  1.125      33                  2                  4                 17   \n",
       "14  1.000      88                  2                  4                 22   \n",
       "15  1.000      47                  2                  4                 14   \n",
       "16  1.000      48                  2                  7                 12   \n",
       "17  1.000      14                  2                  2                  7   \n",
       "18  1.000      59                  2                  3                 18   \n",
       "19  1.000      59                  2                  6                 16   \n",
       "\n",
       "    candidates at d=4      GENE             ENSG  \n",
       "0                  12     TXLNA  ENSG00000084652  \n",
       "1                  17  KIAA1328  ENSG00000150477  \n",
       "2                  19    BORCS6  ENSG00000196544  \n",
       "3                  12     KRT18  ENSG00000111057  \n",
       "4                  17   TSC22D4  ENSG00000166925  \n",
       "5                  16      NINL  ENSG00000101004  \n",
       "6                  21     CEP44  ENSG00000164118  \n",
       "7                  18      MED4  ENSG00000136146  \n",
       "8                  23     CPSF7  ENSG00000149532  \n",
       "9                  13     VPS52  ENSG00000223501  \n",
       "10                 17   GPRASP2  ENSG00000158301  \n",
       "11                 17     PNMA5  ENSG00000198883  \n",
       "12                 18   CCNDBP1  ENSG00000166946  \n",
       "13                 16     SAXO1  ENSG00000155875  \n",
       "14                 11     RINT1  ENSG00000135249  \n",
       "15                 19     KRT16  ENSG00000186832  \n",
       "16                 17   CWF19L2  ENSG00000152404  \n",
       "17                 18     CEP97  ENSG00000182504  \n",
       "18                 15      LHX3  ENSG00000107187  \n",
       "19                 15      CDR2  ENSG00000140743  "
      ]
     },
     "execution_count": 107,
     "metadata": {},
     "output_type": "execute_result"
    }
   ],
   "source": [
    "# get top 20 genes\n",
    "df_top = df_res.head(20)\n",
    "df_top"
   ]
  },
  {
   "cell_type": "markdown",
   "metadata": {},
   "source": [
    "### Search for a specific gene"
   ]
  },
  {
   "cell_type": "code",
   "execution_count": 77,
   "metadata": {},
   "outputs": [
    {
     "name": "stdout",
     "output_type": "stream",
     "text": [
      "TYMP score: 0.53125\n"
     ]
    }
   ],
   "source": [
    "gene_of_interest = \"TYMP\"\n",
    "\n",
    "score = df_res[df_res['GENE'] == gene_of_interest]['score'].values[0]\n",
    "\n",
    "print(f\"{gene_of_interest} score: {score}\")"
   ]
  },
  {
   "cell_type": "markdown",
   "metadata": {},
   "source": [
    "### Analyze the results"
   ]
  },
  {
   "cell_type": "code",
   "execution_count": 78,
   "metadata": {},
   "outputs": [
    {
     "data": {
      "text/plain": [
       "<Axes: xlabel='score', ylabel='Count'>"
      ]
     },
     "execution_count": 78,
     "metadata": {},
     "output_type": "execute_result"
    },
    {
     "data": {
      "image/png": "[encoded data removed]",
      "text/plain": [
       "<Figure size 640x480 with 1 Axes>"
      ]
     },
     "metadata": {},
     "output_type": "display_data"
    }
   ],
   "source": [
    "sns.histplot(data=df, x='score')"
   ]
  },
  {
   "cell_type": "code",
   "execution_count": 79,
   "metadata": {},
   "outputs": [
    {
     "name": "stderr",
     "output_type": "stream",
     "text": [
      "/home/kubicaj/python_venvs/pyEnv_PPI/lib64/python3.9/site-packages/seaborn/_base.py:949: FutureWarning: When grouping with a length-1 list-like, you will need to pass a length-1 tuple to get_group in a future version of pandas. Pass `(name,)` instead of `name` to silence this warning.\n",
      "  data_subset = grouped_data.get_group(pd_key)\n"
     ]
    },
    {
     "data": {
      "text/plain": [
       "<Axes: ylabel='score'>"
      ]
     },
     "execution_count": 79,
     "metadata": {},
     "output_type": "execute_result"
    },
    {
     "data": {
      "image/png": "[encoded data removed]",
      "text/plain": [
       "<Figure size 640x480 with 1 Axes>"
      ]
     },
     "metadata": {},
     "output_type": "display_data"
    }
   ],
   "source": [
    "sns.violinplot(data=df, y='score')"
   ]
  },
  {
   "cell_type": "markdown",
   "metadata": {},
   "source": [
    "### Analyze scores for new candidates from 13/02/2024"
   ]
  },
  {
   "cell_type": "code",
   "execution_count": 80,
   "metadata": {},
   "outputs": [],
   "source": [
    "new_candidates = ['CLHC1', 'PHF20', 'NUSAP1', 'CDC20B', 'FAM221A', 'GALR3', 'LRRC9', 'KIF27', 'ZNF208', 'C6orf118', 'CCDC66', 'CCNA1', 'DDX43', 'FSCB', 'FHAD1', 'LRGUK', 'MYCBPAP', 'MYH7B', 'PCDHB15', 'SAMD15', 'SPACA9', 'SPATA24', 'SPATA6', 'TSSK4', 'TTLL2']\n",
    "dict_new_candidates = dict([(gene, genes_df[genes_df['GENE'] == gene]['ENSG'].values[0]) for gene in new_candidates])"
   ]
  },
  {
   "cell_type": "code",
   "execution_count": 81,
   "metadata": {},
   "outputs": [
    {
     "data": {
      "text/plain": [
       "0.68"
      ]
     },
     "execution_count": 81,
     "metadata": {},
     "output_type": "execute_result"
    }
   ],
   "source": [
    "# check what percentage of new candidates is in interactome\n",
    "len([nc for nc in dict_new_candidates.values() if nc in G.nodes()]) / len(dict_new_candidates.values())"
   ]
  },
  {
   "cell_type": "code",
   "execution_count": 91,
   "metadata": {},
   "outputs": [
    {
     "data": {
      "text/html": [
       "<div>\n",
       "<style scoped>\n",
       "    .dataframe tbody tr th:only-of-type {\n",
       "        vertical-align: middle;\n",
       "    }\n",
       "\n",
       "    .dataframe tbody tr th {\n",
       "        vertical-align: top;\n",
       "    }\n",
       "\n",
       "    .dataframe thead th {\n",
       "        text-align: right;\n",
       "    }\n",
       "</style>\n",
       "<table border=\"1\" class=\"dataframe\">\n",
       "  <thead>\n",
       "    <tr style=\"text-align: right;\">\n",
       "      <th></th>\n",
       "      <th>score</th>\n",
       "      <th>degree</th>\n",
       "      <th>candidates at d=1</th>\n",
       "      <th>candidates at d=2</th>\n",
       "      <th>candidates at d=3</th>\n",
       "      <th>candidates at d=4</th>\n",
       "      <th>GENE</th>\n",
       "      <th>ENSG</th>\n",
       "    </tr>\n",
       "  </thead>\n",
       "  <tbody>\n",
       "    <tr>\n",
       "      <th>14667</th>\n",
       "      <td>0.625</td>\n",
       "      <td>1</td>\n",
       "      <td>1</td>\n",
       "      <td>1</td>\n",
       "      <td>4</td>\n",
       "      <td>11</td>\n",
       "      <td>CCDC66</td>\n",
       "      <td>ENSG00000180376</td>\n",
       "    </tr>\n",
       "    <tr>\n",
       "      <th>7244</th>\n",
       "      <td>0.000</td>\n",
       "      <td>3</td>\n",
       "      <td>0</td>\n",
       "      <td>1</td>\n",
       "      <td>4</td>\n",
       "      <td>13</td>\n",
       "      <td>MYCBPAP</td>\n",
       "      <td>ENSG00000136449</td>\n",
       "    </tr>\n",
       "    <tr>\n",
       "      <th>6677</th>\n",
       "      <td>0.000</td>\n",
       "      <td>17</td>\n",
       "      <td>0</td>\n",
       "      <td>3</td>\n",
       "      <td>10</td>\n",
       "      <td>24</td>\n",
       "      <td>CCNA1</td>\n",
       "      <td>ENSG00000133101</td>\n",
       "    </tr>\n",
       "    <tr>\n",
       "      <th>11610</th>\n",
       "      <td>0.000</td>\n",
       "      <td>3</td>\n",
       "      <td>0</td>\n",
       "      <td>0</td>\n",
       "      <td>6</td>\n",
       "      <td>26</td>\n",
       "      <td>SPACA9</td>\n",
       "      <td>ENSG00000165698</td>\n",
       "    </tr>\n",
       "    <tr>\n",
       "      <th>1440</th>\n",
       "      <td>0.000</td>\n",
       "      <td>5</td>\n",
       "      <td>0</td>\n",
       "      <td>0</td>\n",
       "      <td>6</td>\n",
       "      <td>17</td>\n",
       "      <td>MYH7B</td>\n",
       "      <td>ENSG00000078814</td>\n",
       "    </tr>\n",
       "    <tr>\n",
       "      <th>12763</th>\n",
       "      <td>0.000</td>\n",
       "      <td>7</td>\n",
       "      <td>0</td>\n",
       "      <td>1</td>\n",
       "      <td>3</td>\n",
       "      <td>27</td>\n",
       "      <td>SPATA24</td>\n",
       "      <td>ENSG00000170469</td>\n",
       "    </tr>\n",
       "    <tr>\n",
       "      <th>7856</th>\n",
       "      <td>0.000</td>\n",
       "      <td>1</td>\n",
       "      <td>0</td>\n",
       "      <td>0</td>\n",
       "      <td>1</td>\n",
       "      <td>21</td>\n",
       "      <td>TSSK4</td>\n",
       "      <td>ENSG00000139908</td>\n",
       "    </tr>\n",
       "    <tr>\n",
       "      <th>11255</th>\n",
       "      <td>0.000</td>\n",
       "      <td>11</td>\n",
       "      <td>0</td>\n",
       "      <td>3</td>\n",
       "      <td>7</td>\n",
       "      <td>23</td>\n",
       "      <td>CDC20B</td>\n",
       "      <td>ENSG00000164287</td>\n",
       "    </tr>\n",
       "    <tr>\n",
       "      <th>10834</th>\n",
       "      <td>0.000</td>\n",
       "      <td>1</td>\n",
       "      <td>0</td>\n",
       "      <td>0</td>\n",
       "      <td>3</td>\n",
       "      <td>10</td>\n",
       "      <td>CLHC1</td>\n",
       "      <td>ENSG00000162994</td>\n",
       "    </tr>\n",
       "    <tr>\n",
       "      <th>1482</th>\n",
       "      <td>0.000</td>\n",
       "      <td>1</td>\n",
       "      <td>0</td>\n",
       "      <td>0</td>\n",
       "      <td>0</td>\n",
       "      <td>0</td>\n",
       "      <td>DDX43</td>\n",
       "      <td>ENSG00000080007</td>\n",
       "    </tr>\n",
       "    <tr>\n",
       "      <th>5035</th>\n",
       "      <td>0.000</td>\n",
       "      <td>1</td>\n",
       "      <td>0</td>\n",
       "      <td>0</td>\n",
       "      <td>0</td>\n",
       "      <td>0</td>\n",
       "      <td>TTLL2</td>\n",
       "      <td>ENSG00000120440</td>\n",
       "    </tr>\n",
       "    <tr>\n",
       "      <th>16484</th>\n",
       "      <td>0.000</td>\n",
       "      <td>6</td>\n",
       "      <td>0</td>\n",
       "      <td>2</td>\n",
       "      <td>7</td>\n",
       "      <td>22</td>\n",
       "      <td>FAM221A</td>\n",
       "      <td>ENSG00000188732</td>\n",
       "    </tr>\n",
       "    <tr>\n",
       "      <th>6505</th>\n",
       "      <td>0.000</td>\n",
       "      <td>3</td>\n",
       "      <td>0</td>\n",
       "      <td>0</td>\n",
       "      <td>10</td>\n",
       "      <td>21</td>\n",
       "      <td>SPATA6</td>\n",
       "      <td>ENSG00000132122</td>\n",
       "    </tr>\n",
       "    <tr>\n",
       "      <th>11469</th>\n",
       "      <td>0.000</td>\n",
       "      <td>3</td>\n",
       "      <td>0</td>\n",
       "      <td>1</td>\n",
       "      <td>4</td>\n",
       "      <td>21</td>\n",
       "      <td>KIF27</td>\n",
       "      <td>ENSG00000165115</td>\n",
       "    </tr>\n",
       "    <tr>\n",
       "      <th>444</th>\n",
       "      <td>0.000</td>\n",
       "      <td>1</td>\n",
       "      <td>0</td>\n",
       "      <td>0</td>\n",
       "      <td>2</td>\n",
       "      <td>14</td>\n",
       "      <td>PHF20</td>\n",
       "      <td>ENSG00000025293</td>\n",
       "    </tr>\n",
       "    <tr>\n",
       "      <th>8222</th>\n",
       "      <td>0.000</td>\n",
       "      <td>1</td>\n",
       "      <td>0</td>\n",
       "      <td>1</td>\n",
       "      <td>2</td>\n",
       "      <td>21</td>\n",
       "      <td>FHAD1</td>\n",
       "      <td>ENSG00000142621</td>\n",
       "    </tr>\n",
       "    <tr>\n",
       "      <th>5986</th>\n",
       "      <td>0.000</td>\n",
       "      <td>1</td>\n",
       "      <td>0</td>\n",
       "      <td>0</td>\n",
       "      <td>0</td>\n",
       "      <td>3</td>\n",
       "      <td>GALR3</td>\n",
       "      <td>ENSG00000128310</td>\n",
       "    </tr>\n",
       "  </tbody>\n",
       "</table>\n",
       "</div>"
      ],
      "text/plain": [
       "       score  degree  candidates at d=1  candidates at d=2  candidates at d=3  \\\n",
       "14667  0.625       1                  1                  1                  4   \n",
       "7244   0.000       3                  0                  1                  4   \n",
       "6677   0.000      17                  0                  3                 10   \n",
       "11610  0.000       3                  0                  0                  6   \n",
       "1440   0.000       5                  0                  0                  6   \n",
       "12763  0.000       7                  0                  1                  3   \n",
       "7856   0.000       1                  0                  0                  1   \n",
       "11255  0.000      11                  0                  3                  7   \n",
       "10834  0.000       1                  0                  0                  3   \n",
       "1482   0.000       1                  0                  0                  0   \n",
       "5035   0.000       1                  0                  0                  0   \n",
       "16484  0.000       6                  0                  2                  7   \n",
       "6505   0.000       3                  0                  0                 10   \n",
       "11469  0.000       3                  0                  1                  4   \n",
       "444    0.000       1                  0                  0                  2   \n",
       "8222   0.000       1                  0                  1                  2   \n",
       "5986   0.000       1                  0                  0                  0   \n",
       "\n",
       "       candidates at d=4     GENE             ENSG  \n",
       "14667                 11   CCDC66  ENSG00000180376  \n",
       "7244                  13  MYCBPAP  ENSG00000136449  \n",
       "6677                  24    CCNA1  ENSG00000133101  \n",
       "11610                 26   SPACA9  ENSG00000165698  \n",
       "1440                  17    MYH7B  ENSG00000078814  \n",
       "12763                 27  SPATA24  ENSG00000170469  \n",
       "7856                  21    TSSK4  ENSG00000139908  \n",
       "11255                 23   CDC20B  ENSG00000164287  \n",
       "10834                 10    CLHC1  ENSG00000162994  \n",
       "1482                   0    DDX43  ENSG00000080007  \n",
       "5035                   0    TTLL2  ENSG00000120440  \n",
       "16484                 22  FAM221A  ENSG00000188732  \n",
       "6505                  21   SPATA6  ENSG00000132122  \n",
       "11469                 21    KIF27  ENSG00000165115  \n",
       "444                   14    PHF20  ENSG00000025293  \n",
       "8222                  21    FHAD1  ENSG00000142621  \n",
       "5986                   3    GALR3  ENSG00000128310  "
      ]
     },
     "execution_count": 91,
     "metadata": {},
     "output_type": "execute_result"
    }
   ],
   "source": [
    "# check scores of new candidates\n",
    "df_new_candidates = df_res[df_res['ENSG'].isin(dict_new_candidates.values())]\n",
    "df_new_candidates"
   ]
  },
  {
   "cell_type": "code",
   "execution_count": 83,
   "metadata": {},
   "outputs": [
    {
     "data": {
      "text/plain": [
       "['ENSG00000174799']"
      ]
     },
     "execution_count": 83,
     "metadata": {},
     "output_type": "execute_result"
    }
   ],
   "source": [
    "[n for n in G.neighbors('ENSG00000180376')]"
   ]
  },
  {
   "cell_type": "code",
   "execution_count": 84,
   "metadata": {},
   "outputs": [
    {
     "data": {
      "text/plain": [
       "['ENSG00000122970',\n",
       " 'ENSG00000196544',\n",
       " 'ENSG00000174799',\n",
       " 'ENSG00000101004',\n",
       " 'ENSG00000073584',\n",
       " 'ENSG00000196553',\n",
       " 'ENSG00000205726',\n",
       " 'ENSG00000150477']"
      ]
     },
     "execution_count": 84,
     "metadata": {},
     "output_type": "execute_result"
    }
   ],
   "source": [
    "[n for n in G.neighbors('ENSG00000096872')]"
   ]
  },
  {
   "cell_type": "code",
   "execution_count": 85,
   "metadata": {},
   "outputs": [
    {
     "name": "stderr",
     "output_type": "stream",
     "text": [
      "/home/kubicaj/python_venvs/pyEnv_PPI/lib64/python3.9/site-packages/seaborn/_base.py:949: FutureWarning: When grouping with a length-1 list-like, you will need to pass a length-1 tuple to get_group in a future version of pandas. Pass `(name,)` instead of `name` to silence this warning.\n",
      "  data_subset = grouped_data.get_group(pd_key)\n"
     ]
    },
    {
     "data": {
      "image/png": "[encoded data removed]",
      "text/plain": [
       "<Figure size 640x480 with 1 Axes>"
      ]
     },
     "metadata": {},
     "output_type": "display_data"
    }
   ],
   "source": [
    "# plot scores of new candidates\n",
    "sns.violinplot(data=df, y='score')\n",
    "plt.title(\"Scores of new candidates from 13/02/2024\")\n",
    "\n",
    "for idx, row in df_new_candidates.iterrows():\n",
    "    gene = row['GENE']\n",
    "    score = row['score']\n",
    "    plt.plot(score, 'or')\n",
    "    plt.text(0, score, s=f\"{gene}, {score}\")"
   ]
  },
  {
   "cell_type": "markdown",
   "metadata": {},
   "source": [
    "### Examine the highest-scoring gene ENSG00000180376"
   ]
  },
  {
   "cell_type": "code",
   "execution_count": 86,
   "metadata": {},
   "outputs": [
    {
     "data": {
      "text/plain": [
       "['ENSG00000174799']"
      ]
     },
     "execution_count": 86,
     "metadata": {},
     "output_type": "execute_result"
    }
   ],
   "source": [
    "# get ENSG00000180376 neighbours\n",
    "[n for n in G.neighbors('ENSG00000180376')]"
   ]
  },
  {
   "cell_type": "markdown",
   "metadata": {},
   "source": [
    "### Leave-one-out experiments"
   ]
  },
  {
   "cell_type": "code",
   "execution_count": null,
   "metadata": {},
   "outputs": [],
   "source": [
    "for candidate in candidates_MMAF:\n",
    "    # remove the candidate from candidate list\n",
    "    left_out_idx = candidates_MMAF.index(candidate)\n",
    "\n",
    "    candidates_MMAF_new = candidates_MMAF[:left_out_idx] + candidates_MMAF[left_out_idx+1:]\n",
    "\n",
    "    print(f\"Removed gene {candidate} from candidates\")\n",
    "\n",
    "    # set beta parameter for each node\n",
    "    beta_dict = dict([(n, beta*int(n in candidates_MMAF_new)) for n in G])\n",
    "\n",
    "    # calculate Katz centrality for each node\n",
    "    res_KC_candidateInList = katz_centrality(G, alpha=alpha, beta=beta_dict)\n",
    "    res_KC_candidateInList_sorted = dict(sorted(res_KC_candidateInList.items(), key=lambda v: v[1], reverse=True))\n",
    "\n",
    "    # compare KC of each node before and after removal of candidate\n",
    "    for idx, row in df.iterrows():\n",
    "        KC_candidateInList = row['KC']\n",
    "        KC_candidateNotInList = res_KC_candidateInList_sorted.get(idx)\n",
    "        KC_diff = KC_candidateInList - KC_candidateNotInList\n",
    "\n",
    "        dict_compare[idx] = {\"KC_candidateInList\": KC_candidateInList, \"KC_candidateNotInList\": KC_candidateNotInList, \"KC_diff\": KC_diff}\n",
    "\n",
    "    df_compare = pd.DataFrame.from_dict(dict_compare, orient='index', columns=['KC_candidateInList', 'KC_candidateNotInList', 'KC_diff'])\n",
    "    df_compare = df_compare.sort_values(by='KC_diff', ascending=False)\n",
    "\n",
    "    # get top 10 most affected genes\n",
    "    df_most_affected = df_compare.iloc[1:11]\n",
    "\n",
    "    dict_most_affected[candidate] = df_most_affected.to_dict('index')"
   ]
  }
 ],
 "metadata": {
  "kernelspec": {
   "display_name": "pyEnv_PPI",
   "language": "python",
   "name": "python3"
  },
  "language_info": {
   "codemirror_mode": {
    "name": "ipython",
    "version": 3
   },
   "file_extension": ".py",
   "mimetype": "text/x-python",
   "name": "python",
   "nbconvert_exporter": "python",
   "pygments_lexer": "ipython3",
   "version": "3.9.18"
  }
 },
 "nbformat": 4,
 "nbformat_minor": 2
}
