{
 "cells": [
  {
   "cell_type": "code",
   "execution_count": 1,
   "metadata": {},
   "outputs": [],
   "source": [
    "import pandas\n",
    "\n",
    "import seaborn"
   ]
  },
  {
   "cell_type": "code",
   "execution_count": 2,
   "metadata": {},
   "outputs": [],
   "source": [
    "# load scores\n",
    "scores = {}\n",
    "\n",
    "for i in range(3, 11):\n",
    "    tmp = {}\n",
    "    with open(f\"scores_d{i}.tsv\", 'r') as f:\n",
    "        data = f.read().splitlines()\n",
    "        for line in data:\n",
    "            line_splitted = line.split('\\t')\n",
    "            gene, score = line_splitted\n",
    "            tmp[gene] = float(score)\n",
    "    \n",
    "    scores[i] = tmp"
   ]
  },
  {
   "cell_type": "code",
   "execution_count": 7,
   "metadata": {},
   "outputs": [],
   "source": [
    "df = pandas.DataFrame.from_dict(scores.get(3), \n",
    "                                     orient='index', \n",
    "                                     columns=['score'])\n",
    "\n",
    "df['d_max'] = int(3)"
   ]
  },
  {
   "cell_type": "code",
   "execution_count": 8,
   "metadata": {},
   "outputs": [],
   "source": [
    "for k in scores.keys():\n",
    "    if k == 3:\n",
    "        continue\n",
    "    df_tmp = pandas.DataFrame.from_dict(scores.get(k),\n",
    "                                        orient='index',\n",
    "                                        columns=['score'])\n",
    "    df_tmp['d_max'] = int(k)\n",
    "    df = pandas.concat([df, df_tmp])"
   ]
  },
  {
   "cell_type": "code",
   "execution_count": 9,
   "metadata": {},
   "outputs": [
    {
     "data": {
      "text/html": [
       "<div>\n",
       "<style scoped>\n",
       "    .dataframe tbody tr th:only-of-type {\n",
       "        vertical-align: middle;\n",
       "    }\n",
       "\n",
       "    .dataframe tbody tr th {\n",
       "        vertical-align: top;\n",
       "    }\n",
       "\n",
       "    .dataframe thead th {\n",
       "        text-align: right;\n",
       "    }\n",
       "</style>\n",
       "<table border=\"1\" class=\"dataframe\">\n",
       "  <thead>\n",
       "    <tr style=\"text-align: right;\">\n",
       "      <th></th>\n",
       "      <th>score</th>\n",
       "      <th>d_max</th>\n",
       "    </tr>\n",
       "  </thead>\n",
       "  <tbody>\n",
       "    <tr>\n",
       "      <th>ENSG00000065559</th>\n",
       "      <td>0.001612</td>\n",
       "      <td>3</td>\n",
       "    </tr>\n",
       "    <tr>\n",
       "      <th>ENSG00000128591</th>\n",
       "      <td>0.001813</td>\n",
       "      <td>3</td>\n",
       "    </tr>\n",
       "    <tr>\n",
       "      <th>ENSG00000077522</th>\n",
       "      <td>0.003115</td>\n",
       "      <td>3</td>\n",
       "    </tr>\n",
       "    <tr>\n",
       "      <th>ENSG00000138347</th>\n",
       "      <td>0.004255</td>\n",
       "      <td>3</td>\n",
       "    </tr>\n",
       "    <tr>\n",
       "      <th>ENSG00000179348</th>\n",
       "      <td>0.002617</td>\n",
       "      <td>3</td>\n",
       "    </tr>\n",
       "    <tr>\n",
       "      <th>...</th>\n",
       "      <td>...</td>\n",
       "      <td>...</td>\n",
       "    </tr>\n",
       "    <tr>\n",
       "      <th>ENSG00000173578</th>\n",
       "      <td>0.002166</td>\n",
       "      <td>10</td>\n",
       "    </tr>\n",
       "    <tr>\n",
       "      <th>ENSG00000104755</th>\n",
       "      <td>0.002251</td>\n",
       "      <td>10</td>\n",
       "    </tr>\n",
       "    <tr>\n",
       "      <th>ENSG00000134007</th>\n",
       "      <td>0.002251</td>\n",
       "      <td>10</td>\n",
       "    </tr>\n",
       "    <tr>\n",
       "      <th>ENSG00000143278</th>\n",
       "      <td>0.002931</td>\n",
       "      <td>10</td>\n",
       "    </tr>\n",
       "    <tr>\n",
       "      <th>ENSG00000086730</th>\n",
       "      <td>0.002510</td>\n",
       "      <td>10</td>\n",
       "    </tr>\n",
       "  </tbody>\n",
       "</table>\n",
       "<p>115144 rows × 2 columns</p>\n",
       "</div>"
      ],
      "text/plain": [
       "                    score  d_max\n",
       "ENSG00000065559  0.001612      3\n",
       "ENSG00000128591  0.001813      3\n",
       "ENSG00000077522  0.003115      3\n",
       "ENSG00000138347  0.004255      3\n",
       "ENSG00000179348  0.002617      3\n",
       "...                   ...    ...\n",
       "ENSG00000173578  0.002166     10\n",
       "ENSG00000104755  0.002251     10\n",
       "ENSG00000134007  0.002251     10\n",
       "ENSG00000143278  0.002931     10\n",
       "ENSG00000086730  0.002510     10\n",
       "\n",
       "[115144 rows x 2 columns]"
      ]
     },
     "execution_count": 9,
     "metadata": {},
     "output_type": "execute_result"
    }
   ],
   "source": [
    "df"
   ]
  },
  {
   "cell_type": "code",
   "execution_count": 11,
   "metadata": {},
   "outputs": [
    {
     "data": {
      "text/plain": [
       "<Axes: xlabel='d_max', ylabel='score'>"
      ]
     },
     "execution_count": 11,
     "metadata": {},
     "output_type": "execute_result"
    },
    {
     "data": {
      "image/png": "[encoded data removed]",
      "text/plain": [
       "<Figure size 640x480 with 1 Axes>"
      ]
     },
     "metadata": {},
     "output_type": "display_data"
    }
   ],
   "source": [
    "# plot\n",
    "seaborn.boxplot(data=df, x='d_max', y='score')"
   ]
  },
  {
   "cell_type": "code",
   "execution_count": null,
   "metadata": {},
   "outputs": [],
   "source": []
  }
 ],
 "metadata": {
  "kernelspec": {
   "display_name": "pyEnv_PPI",
   "language": "python",
   "name": "python3"
  },
  "language_info": {
   "codemirror_mode": {
    "name": "ipython",
    "version": 3
   },
   "file_extension": ".py",
   "mimetype": "text/x-python",
   "name": "python",
   "nbconvert_exporter": "python",
   "pygments_lexer": "ipython3",
   "version": "3.9.18"
  }
 },
 "nbformat": 4,
 "nbformat_minor": 2
}
