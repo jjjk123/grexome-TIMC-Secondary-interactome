{
 "cells": [
  {
   "cell_type": "code",
   "execution_count": 1,
   "metadata": {},
   "outputs": [],
   "source": [
    "import pandas as pd"
   ]
  },
  {
   "cell_type": "code",
   "execution_count": 2,
   "metadata": {},
   "outputs": [],
   "source": [
    "uniprot_df = pd.read_csv(\"./data/Uniprot_output.tsv\", sep='\\t')"
   ]
  },
  {
   "cell_type": "code",
   "execution_count": 3,
   "metadata": {},
   "outputs": [],
   "source": [
    "candidates_df = pd.read_excel('./data/candidateGenes_allPhenotypes.xlsx')\n",
    "candidates = candidates_df['Gene'].dropna().to_list()"
   ]
  },
  {
   "cell_type": "code",
   "execution_count": 4,
   "metadata": {},
   "outputs": [],
   "source": [
    "uniprot_df = uniprot_df[uniprot_df['ENSGs'].notna()]\n",
    "uniprot_df = uniprot_df[uniprot_df['GeneNames'].notna()]"
   ]
  },
  {
   "cell_type": "code",
   "execution_count": 5,
   "metadata": {},
   "outputs": [
    {
     "data": {
      "text/html": [
       "<div>\n",
       "<style scoped>\n",
       "    .dataframe tbody tr th:only-of-type {\n",
       "        vertical-align: middle;\n",
       "    }\n",
       "\n",
       "    .dataframe tbody tr th {\n",
       "        vertical-align: top;\n",
       "    }\n",
       "\n",
       "    .dataframe thead th {\n",
       "        text-align: right;\n",
       "    }\n",
       "</style>\n",
       "<table border=\"1\" class=\"dataframe\">\n",
       "  <thead>\n",
       "    <tr style=\"text-align: right;\">\n",
       "      <th></th>\n",
       "      <th>Primary_AC</th>\n",
       "      <th>TaxID</th>\n",
       "      <th>ENSTs</th>\n",
       "      <th>ENSGs</th>\n",
       "      <th>Secondary_ACs</th>\n",
       "      <th>GeneIDs</th>\n",
       "      <th>GeneNames</th>\n",
       "    </tr>\n",
       "  </thead>\n",
       "  <tbody>\n",
       "    <tr>\n",
       "      <th>2823</th>\n",
       "      <td>Q5T0N1</td>\n",
       "      <td>9606</td>\n",
       "      <td>ENST00000493787</td>\n",
       "      <td>ENSG00000156042</td>\n",
       "      <td>C9JIZ9,Q5T0M4,Q5T0M9,Q5T0N0,Q69YH9,Q8IYZ8,Q8N7...</td>\n",
       "      <td>118491</td>\n",
       "      <td>CFAP70,TTC18</td>\n",
       "    </tr>\n",
       "  </tbody>\n",
       "</table>\n",
       "</div>"
      ],
      "text/plain": [
       "     Primary_AC  TaxID            ENSTs            ENSGs  \\\n",
       "2823     Q5T0N1   9606  ENST00000493787  ENSG00000156042   \n",
       "\n",
       "                                          Secondary_ACs GeneIDs     GeneNames  \n",
       "2823  C9JIZ9,Q5T0M4,Q5T0M9,Q5T0N0,Q69YH9,Q8IYZ8,Q8N7...  118491  CFAP70,TTC18  "
      ]
     },
     "execution_count": 5,
     "metadata": {},
     "output_type": "execute_result"
    }
   ],
   "source": [
    "uniprot_df[uniprot_df['ENSGs'].str.contains('ENSG00000156042', na=False)]"
   ]
  },
  {
   "cell_type": "code",
   "execution_count": 31,
   "metadata": {},
   "outputs": [
    {
     "name": "stdout",
     "output_type": "stream",
     "text": [
      "AARS2\n",
      "ACSBG2\n",
      "ACTL7A\n",
      "ACTL7A\n",
      "ACTL7A\n",
      "ACTL9\n",
      "ADAD2\n",
      "ADGB\n",
      "ADGRG2\n",
      "AFF2\n",
      "AGPS\n",
      "AHRR\n"
     ]
    },
    {
     "ename": "IndexError",
     "evalue": "index 0 is out of bounds for axis 0 with size 0",
     "output_type": "error",
     "traceback": [
      "\u001b[0;31m---------------------------------------------------------------------------\u001b[0m",
      "\u001b[0;31mIndexError\u001b[0m                                Traceback (most recent call last)",
      "Cell \u001b[0;32mIn[31], line 8\u001b[0m\n\u001b[1;32m      6\u001b[0m \u001b[38;5;28;01mfor\u001b[39;00m candidate \u001b[38;5;129;01min\u001b[39;00m candidates:\n\u001b[1;32m      7\u001b[0m     \u001b[38;5;28mprint\u001b[39m(candidate)\n\u001b[0;32m----> 8\u001b[0m     ensg_tmp \u001b[38;5;241m=\u001b[39m \u001b[43muniprot_df\u001b[49m\u001b[43m[\u001b[49m\u001b[43muniprot_df\u001b[49m\u001b[43m[\u001b[49m\u001b[38;5;124;43m'\u001b[39;49m\u001b[38;5;124;43mGeneNames\u001b[39;49m\u001b[38;5;124;43m'\u001b[39;49m\u001b[43m]\u001b[49m\u001b[38;5;241;43m.\u001b[39;49m\u001b[43mstr\u001b[49m\u001b[38;5;241;43m.\u001b[39;49m\u001b[43mcontains\u001b[49m\u001b[43m(\u001b[49m\u001b[43mcandidate\u001b[49m\u001b[43m,\u001b[49m\u001b[43m \u001b[49m\u001b[43mna\u001b[49m\u001b[38;5;241;43m=\u001b[39;49m\u001b[38;5;28;43;01mFalse\u001b[39;49;00m\u001b[43m)\u001b[49m\u001b[43m]\u001b[49m\u001b[43m[\u001b[49m\u001b[38;5;124;43m'\u001b[39;49m\u001b[38;5;124;43mENSGs\u001b[39;49m\u001b[38;5;124;43m'\u001b[39;49m\u001b[43m]\u001b[49m\u001b[38;5;241;43m.\u001b[39;49m\u001b[43mvalues\u001b[49m\u001b[43m[\u001b[49m\u001b[38;5;241;43m0\u001b[39;49m\u001b[43m]\u001b[49m\n\u001b[1;32m      9\u001b[0m     ensg \u001b[38;5;241m=\u001b[39m ensg_tmp\u001b[38;5;241m.\u001b[39msplit(\u001b[38;5;124m'\u001b[39m\u001b[38;5;124m,\u001b[39m\u001b[38;5;124m'\u001b[39m)[\u001b[38;5;241m0\u001b[39m]\n\u001b[1;32m     10\u001b[0m     d[candidate] \u001b[38;5;241m=\u001b[39m ensg\n",
      "\u001b[0;31mIndexError\u001b[0m: index 0 is out of bounds for axis 0 with size 0"
     ]
    }
   ],
   "source": [
    "d = {}\n",
    "candidates_ensg_list = []\n",
    "\n",
    "d['GENE'] = 'ENSG'\n",
    "\n",
    "for candidate in candidates:\n",
    "    print(candidate)\n",
    "    ensg_tmp = uniprot_df[uniprot_df['GeneNames'].str.contains(candidate, na=False)]['ENSGs'].values[0]\n",
    "    ensg = ensg_tmp.split(',')[0]\n",
    "    d[candidate] = ensg\n",
    "    candidates_ensg_list.append(ensg)\n",
    "\n",
    "df = pd.DataFrame.from_dict(d.items())\n",
    "df.head()"
   ]
  },
  {
   "cell_type": "code",
   "execution_count": 6,
   "metadata": {},
   "outputs": [],
   "source": [
    "df.to_csv('./data/candidateGenes.tsv', sep='\\t', header=None, index=False)"
   ]
  },
  {
   "cell_type": "code",
   "execution_count": 7,
   "metadata": {},
   "outputs": [],
   "source": [
    "pd.to_pickle(candidates_ensg_list, \"./data/candidateGenesList.p\")"
   ]
  },
  {
   "cell_type": "markdown",
   "metadata": {},
   "source": [
    "### Create candidadate gene list for given pathology"
   ]
  },
  {
   "cell_type": "code",
   "execution_count": 6,
   "metadata": {},
   "outputs": [],
   "source": [
    "pathology = \"OG\""
   ]
  },
  {
   "cell_type": "code",
   "execution_count": 7,
   "metadata": {},
   "outputs": [],
   "source": [
    "candidates_df = pd.read_excel('./data/candidateGenes_allPhenotypes.xlsx')\n",
    "candidates_df = candidates_df[candidates_df['pathologyID'] == pathology]\n",
    "candidates = candidates_df['Gene'].dropna().to_list()"
   ]
  },
  {
   "cell_type": "code",
   "execution_count": 8,
   "metadata": {},
   "outputs": [
    {
     "data": {
      "text/plain": [
       "117"
      ]
     },
     "execution_count": 8,
     "metadata": {},
     "output_type": "execute_result"
    }
   ],
   "source": [
    "d = {}\n",
    "candidates_ensg_list = []\n",
    "\n",
    "d['GENE'] = 'ENSG'\n",
    "\n",
    "for candidate in candidates:\n",
    "    try:\n",
    "        ensg_tmp = uniprot_df[uniprot_df['GeneNames'].str.contains(candidate, na=False)]['ENSGs'].values[0]\n",
    "        ensg = ensg_tmp.split(',')[0]\n",
    "        d[candidate] = ensg\n",
    "        candidates_ensg_list.append(ensg)\n",
    "    except:\n",
    "        continue\n",
    "\n",
    "df = pd.DataFrame.from_dict(d.items())\n",
    "len(df.index)"
   ]
  },
  {
   "cell_type": "code",
   "execution_count": 9,
   "metadata": {},
   "outputs": [],
   "source": [
    "df.to_csv(f\"./data/candidateGenes_{pathology}.tsv\", sep='\\t', header=None, index=False)"
   ]
  },
  {
   "cell_type": "code",
   "execution_count": 10,
   "metadata": {},
   "outputs": [],
   "source": [
    "pd.to_pickle(candidates_ensg_list, f\"./data/candidateGenesList_{pathology}.p\")"
   ]
  },
  {
   "cell_type": "code",
   "execution_count": null,
   "metadata": {},
   "outputs": [],
   "source": []
  }
 ],
 "metadata": {
  "kernelspec": {
   "display_name": "pyEnv_PPI",
   "language": "python",
   "name": "python3"
  },
  "language_info": {
   "codemirror_mode": {
    "name": "ipython",
    "version": 3
   },
   "file_extension": ".py",
   "mimetype": "text/x-python",
   "name": "python",
   "nbconvert_exporter": "python",
   "pygments_lexer": "ipython3",
   "version": "3.9.18"
  }
 },
 "nbformat": 4,
 "nbformat_minor": 2
}
