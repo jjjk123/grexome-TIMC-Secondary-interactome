{
 "cells": [
  {
   "cell_type": "code",
   "execution_count": 1,
   "metadata": {},
   "outputs": [
    {
     "name": "stderr",
     "output_type": "stream",
     "text": [
      "/home/kubicaj/python_venvs/pyEnv_PPI/lib64/python3.9/site-packages/networkx/utils/backends.py:135: RuntimeWarning: networkx backend defined more than once: nx-loopback\n",
      "  backends.update(_get_backends(\"networkx.backends\"))\n"
     ]
    }
   ],
   "source": [
    "import pandas as pd\n",
    "\n",
    "import collections\n",
    "\n",
    "import networkx as nx\n",
    "import matplotlib.pyplot as plt\n",
    "import seaborn as sns"
   ]
  },
  {
   "cell_type": "code",
   "execution_count": 2,
   "metadata": {},
   "outputs": [],
   "source": [
    "def plot_neighbourhood(node, G, candidates, labels=False):\n",
    "    # plot the neighbourhood of the top node ENSG00000101773\n",
    "    sub_G = G.subgraph([n for n in G.neighbors(node)])\n",
    "    candidates_in_neighbourhood = [x for x in [n for n in sub_G.nodes()] if x in candidates]\n",
    "\n",
    "    sub_G = nx.Graph(sub_G) # unfreeze the graph\n",
    "    sub_G.remove_edges_from(nx.selfloop_edges(sub_G)) # removing self-loops\n",
    "\n",
    "    color_map = ['orangered' if node in candidates_in_neighbourhood else 'lightblue' for node in sub_G]\n",
    "    pos=nx.spring_layout(sub_G)\n",
    "\n",
    "    plt.figure(figsize=(7, 6))\n",
    "    ax = plt.gca()\n",
    "    ax.set_title(f\"Neighbourhood of {node}\")\n",
    "    nx.draw_networkx(sub_G, pos=pos, with_labels=False, node_size=100, alpha=0.9, ax=ax, node_color=color_map)\n",
    "\n",
    "    if labels:\n",
    "        # plot candidates labels\n",
    "        labels = {}\n",
    "        for node in sub_G.nodes():\n",
    "            if node in candidates_in_neighbourhood:\n",
    "                labels[node] = node\n",
    "\n",
    "        pos_higher = {}\n",
    "        for k, v in pos.items():\n",
    "            if(v[1]>0):\n",
    "                pos_higher[k] = (v[0]-0.1, v[1]+0.1)\n",
    "            else:\n",
    "                pos_higher[k] = (v[0]-0.1, v[1]-0.1)\n",
    "        nx.draw_networkx_labels(sub_G, pos=pos_higher, labels=labels, font_size=10, font_color='tomato')\n",
    "    \n",
    "    _ = ax.axis('off')"
   ]
  },
  {
   "cell_type": "code",
   "execution_count": 3,
   "metadata": {},
   "outputs": [],
   "source": [
    "interactome_df = pd.read_csv('./data/Interactome_human.tsv', sep='\\t', header=None)\n",
    "candidates = pd.read_pickle(\"./data/candidateGenesList_MMAF.p\")\n",
    "\n",
    "G = nx.from_pandas_edgelist(interactome_df, 0, 1, edge_attr=True)"
   ]
  },
  {
   "cell_type": "markdown",
   "metadata": {},
   "source": [
    "### Analyze interactome"
   ]
  },
  {
   "cell_type": "code",
   "execution_count": 4,
   "metadata": {},
   "outputs": [
    {
     "data": {
      "text/plain": [
       "10215"
      ]
     },
     "execution_count": 4,
     "metadata": {},
     "output_type": "execute_result"
    }
   ],
   "source": [
    "# number of proteins\n",
    "len(G.nodes())"
   ]
  },
  {
   "cell_type": "code",
   "execution_count": 5,
   "metadata": {},
   "outputs": [
    {
     "data": {
      "text/plain": [
       "42351"
      ]
     },
     "execution_count": 5,
     "metadata": {},
     "output_type": "execute_result"
    }
   ],
   "source": [
    "# number of interactions\n",
    "G.number_of_edges()"
   ]
  },
  {
   "cell_type": "code",
   "execution_count": 6,
   "metadata": {},
   "outputs": [
    {
     "data": {
      "text/plain": [
       "Text(0, 0.5, 'number of nodes')"
      ]
     },
     "execution_count": 6,
     "metadata": {},
     "output_type": "execute_result"
    },
    {
     "data": {
      "image/png": "[encoded data removed]",
      "text/plain": [
       "<Figure size 640x480 with 1 Axes>"
      ]
     },
     "metadata": {},
     "output_type": "display_data"
    }
   ],
   "source": [
    "# degree histogram\n",
    "degrees = sorted([d for n, d in G.degree()])\n",
    "deg, cnt = zip(*collections.Counter(degrees).items())\n",
    "\n",
    "plt.bar(deg, cnt)\n",
    "plt.xlabel(\"degree\")\n",
    "plt.ylabel(\"number of nodes\")"
   ]
  },
  {
   "cell_type": "code",
   "execution_count": 7,
   "metadata": {},
   "outputs": [
    {
     "data": {
      "text/plain": [
       "8.291923641703377"
      ]
     },
     "execution_count": 7,
     "metadata": {},
     "output_type": "execute_result"
    }
   ],
   "source": [
    "# average degree\n",
    "sum([d for _, d in G.degree()]) / G.number_of_nodes()"
   ]
  },
  {
   "cell_type": "markdown",
   "metadata": {},
   "source": [
    "### Count candidate genes for each node neighbourhood"
   ]
  },
  {
   "cell_type": "code",
   "execution_count": 8,
   "metadata": {},
   "outputs": [],
   "source": [
    "# count candidate genes for each node\n",
    "d = {}\n",
    "for node in G.nodes():\n",
    "    sub_G = G.subgraph([n for n in G.neighbors(node)])\n",
    "    candidates_in_neighbourhood = [x for x in [n for n in sub_G.nodes()] if x in candidates]\n",
    "    candidates_in_neighbourhood_cnt = len(candidates_in_neighbourhood)\n",
    "    d[node] = candidates_in_neighbourhood_cnt"
   ]
  },
  {
   "cell_type": "code",
   "execution_count": 9,
   "metadata": {},
   "outputs": [
    {
     "data": {
      "text/plain": [
       "Gene\n",
       "ENSG00000158104    1\n",
       "ENSG00000065559    0\n",
       "ENSG00000088970    0\n",
       "ENSG00000167578    0\n",
       "ENSG00000128654    0\n",
       "                  ..\n",
       "ENSG00000198785    0\n",
       "ENSG00000172115    0\n",
       "ENSG00000204420    0\n",
       "ENSG00000121966    0\n",
       "ENSG00000137767    0\n",
       "Name: # candidates in neighbourhood, Length: 10215, dtype: int64"
      ]
     },
     "execution_count": 9,
     "metadata": {},
     "output_type": "execute_result"
    }
   ],
   "source": [
    "s = pd.Series(d, name='# candidates in neighbourhood')\n",
    "s.index.name = 'Gene'\n",
    "s.reset_index()\n",
    "s.sort_values(ascending=False)"
   ]
  },
  {
   "cell_type": "code",
   "execution_count": 10,
   "metadata": {},
   "outputs": [
    {
     "data": {
      "text/plain": [
       "Text(0, 0.5, 'number of nodes')"
      ]
     },
     "execution_count": 10,
     "metadata": {},
     "output_type": "execute_result"
    },
    {
     "data": {
      "image/png": "[encoded data removed]",
      "text/plain": [
       "<Figure size 640x480 with 1 Axes>"
      ]
     },
     "metadata": {},
     "output_type": "display_data"
    }
   ],
   "source": [
    "ax = s.plot.hist(bins=len(set(s.values)), logy=True)\n",
    "ax.set_xlabel(\"# candidates in neighbourhood\")\n",
    "ax.set_ylabel(\"number of nodes\")"
   ]
  },
  {
   "cell_type": "code",
   "execution_count": 12,
   "metadata": {},
   "outputs": [
    {
     "data": {
      "image/png": "[encoded data removed]",
      "text/plain": [
       "<Figure size 700x600 with 1 Axes>"
      ]
     },
     "metadata": {},
     "output_type": "display_data"
    }
   ],
   "source": [
    "plot_neighbourhood(\"ENSG00000158104\", G, candidates, labels=False)"
   ]
  },
  {
   "cell_type": "markdown",
   "metadata": {},
   "source": [
    "Information about ENSG00000101773:\n",
    "\n",
    "Gene RBBP8\n",
    "\n",
    "Protein Q99708 (endonuclease - DSB repair through HR; component of BRCA1-RBBP8)"
   ]
  },
  {
   "cell_type": "code",
   "execution_count": 13,
   "metadata": {},
   "outputs": [],
   "source": [
    "# relation between the number of candidate genes vs degree\n",
    "d = {}\n",
    "for node in G.nodes():\n",
    "    sub_G = G.subgraph([n for n in G.neighbors(node)])\n",
    "    candidates_in_neighbourhood = [x for x in [n for n in sub_G.nodes()] if x in candidates]\n",
    "    candidates_in_neighbourhood_cnt = len(candidates_in_neighbourhood)\n",
    "    d[node] = [candidates_in_neighbourhood_cnt, G.degree(node)]\n",
    "\n",
    "df = pd.DataFrame.from_dict(d, orient='index', columns=['# candidates in neighbourhood', 'degree'])"
   ]
  },
  {
   "cell_type": "code",
   "execution_count": 14,
   "metadata": {},
   "outputs": [
    {
     "data": {
      "text/plain": [
       "<Axes: xlabel='degree', ylabel='# candidates in neighbourhood'>"
      ]
     },
     "execution_count": 14,
     "metadata": {},
     "output_type": "execute_result"
    },
    {
     "data": {
      "image/png": "[encoded data removed]",
      "text/plain": [
       "<Figure size 640x480 with 1 Axes>"
      ]
     },
     "metadata": {},
     "output_type": "display_data"
    }
   ],
   "source": [
    "df.plot.scatter(x='degree', y='# candidates in neighbourhood')"
   ]
  },
  {
   "cell_type": "code",
   "execution_count": 15,
   "metadata": {},
   "outputs": [
    {
     "data": {
      "text/plain": [
       "0.1111111111111111"
      ]
     },
     "execution_count": 15,
     "metadata": {},
     "output_type": "execute_result"
    }
   ],
   "source": [
    "# fraction of candidates that are present in interactome\n",
    "len([candidate for candidate in candidates if candidate in G.nodes()]) / len(candidates)\n",
    "\n",
    "# ~50% means that the second half of candidate genes has been filtered out during the building of interactome (e.g. because they form hubs >120 connections)"
   ]
  },
  {
   "cell_type": "code",
   "execution_count": 16,
   "metadata": {},
   "outputs": [
    {
     "data": {
      "text/plain": [
       "1.0"
      ]
     },
     "execution_count": 16,
     "metadata": {},
     "output_type": "execute_result"
    }
   ],
   "source": [
    "# average degree of infertility candidate genes\n",
    "d = {}\n",
    "\n",
    "for node in G.nodes():\n",
    "    if node in candidates:\n",
    "        d[node] = G.degree(node)\n",
    "\n",
    "sum([deg for n, deg in d.items()]) / len(d.keys())"
   ]
  },
  {
   "cell_type": "code",
   "execution_count": 17,
   "metadata": {},
   "outputs": [
    {
     "data": {
      "image/png": "[encoded data removed]",
      "text/plain": [
       "<Figure size 700x600 with 1 Axes>"
      ]
     },
     "metadata": {},
     "output_type": "display_data"
    }
   ],
   "source": [
    "# subgraph of candidate genes\n",
    "candidates_sub_G = G.subgraph([n for n in G.nodes() if n in candidates])\n",
    "\n",
    "candidates_sub_G = nx.Graph(candidates_sub_G) # unfreeze the graph\n",
    "candidates_sub_G.remove_edges_from(nx.selfloop_edges(candidates_sub_G)) # removing self-loops\n",
    "\n",
    "plt.figure(figsize=(7, 6))\n",
    "ax = plt.gca()\n",
    "ax.set_title(f\"Subgraph of infertility candidate genes\")\n",
    "# nx.draw_networkx(candidates_sub_G, with_labels=False, node_size=100, alpha=0.9, ax=ax)\n",
    "nx.draw_circular(candidates_sub_G, with_labels=True, node_size=100, alpha=0.7, ax=ax, font_size=5)\n",
    "_ = ax.axis('off')"
   ]
  },
  {
   "cell_type": "code",
   "execution_count": 18,
   "metadata": {},
   "outputs": [
    {
     "data": {
      "text/plain": [
       "(1, 0)"
      ]
     },
     "execution_count": 18,
     "metadata": {},
     "output_type": "execute_result"
    }
   ],
   "source": [
    "# number of nodes and edges in subgraph of candidate genes\n",
    "candidates_sub_G = G.subgraph([n for n in G.nodes() if n in candidates])\n",
    "candidates_sub_G.number_of_nodes(), candidates_sub_G.number_of_edges()"
   ]
  },
  {
   "cell_type": "markdown",
   "metadata": {},
   "source": [
    "### Score 1: Count candidate genes for each node and divide by node degree"
   ]
  },
  {
   "cell_type": "code",
   "execution_count": 19,
   "metadata": {},
   "outputs": [],
   "source": [
    "# count candidate genes for each node and divide by node degree\n",
    "d = {}\n",
    "for node in G.nodes():\n",
    "    sub_G = G.subgraph([n for n in G.neighbors(node)])\n",
    "    candidates_in_neighbourhood = [x for x in [n for n in sub_G.nodes()] if x in candidates]\n",
    "    candidates_in_neighbourhood_cnt = len(candidates_in_neighbourhood)\n",
    "    d[node] = candidates_in_neighbourhood_cnt / G.degree(node)"
   ]
  },
  {
   "cell_type": "code",
   "execution_count": 20,
   "metadata": {},
   "outputs": [
    {
     "data": {
      "text/plain": [
       "Gene\n",
       "ENSG00000158104    1.0\n",
       "ENSG00000065559    0.0\n",
       "ENSG00000088970    0.0\n",
       "ENSG00000167578    0.0\n",
       "ENSG00000128654    0.0\n",
       "                  ... \n",
       "ENSG00000198785    0.0\n",
       "ENSG00000172115    0.0\n",
       "ENSG00000204420    0.0\n",
       "ENSG00000121966    0.0\n",
       "ENSG00000137767    0.0\n",
       "Name: Score 1, Length: 10215, dtype: float64"
      ]
     },
     "execution_count": 20,
     "metadata": {},
     "output_type": "execute_result"
    }
   ],
   "source": [
    "s = pd.Series(d, name='Score 1')\n",
    "s.index.name = 'Gene'\n",
    "s.reset_index()\n",
    "s.sort_values(ascending=False)"
   ]
  },
  {
   "cell_type": "code",
   "execution_count": 21,
   "metadata": {},
   "outputs": [
    {
     "data": {
      "text/plain": [
       "Text(0, 0.5, 'number of nodes')"
      ]
     },
     "execution_count": 21,
     "metadata": {},
     "output_type": "execute_result"
    },
    {
     "data": {
      "image/png": "[encoded data removed]",
      "text/plain": [
       "<Figure size 640x480 with 1 Axes>"
      ]
     },
     "metadata": {},
     "output_type": "display_data"
    }
   ],
   "source": [
    "ax = s.plot.hist(bins=len(set(s.values)), logy=True)\n",
    "# ax = s[s>0].plot.hist(bins=len(set(s.values)))\n",
    "ax.set_xlabel(\"# candidates in neighbourhood / node degree\")\n",
    "ax.set_ylabel(\"number of nodes\")"
   ]
  },
  {
   "cell_type": "code",
   "execution_count": 22,
   "metadata": {},
   "outputs": [],
   "source": [
    "# same as above, but get more node info\n",
    "\n",
    "# count candidate genes for each node and divide by node degree\n",
    "d = {}\n",
    "for node in G.nodes():\n",
    "    sub_G = G.subgraph([n for n in G.neighbors(node)])\n",
    "    candidates_in_neighbourhood = [x for x in [n for n in sub_G.nodes()] if x in candidates]\n",
    "    candidates_in_neighbourhood_cnt = len(candidates_in_neighbourhood)\n",
    "\n",
    "    isCandidate = True if node in candidates else False\n",
    "\n",
    "    # calculate score 1\n",
    "    score = candidates_in_neighbourhood_cnt / G.degree(node)\n",
    "\n",
    "    d[node] = [score, candidates_in_neighbourhood_cnt, G.degree(node), isCandidate]"
   ]
  },
  {
   "cell_type": "code",
   "execution_count": 23,
   "metadata": {},
   "outputs": [
    {
     "data": {
      "text/html": [
       "<div>\n",
       "<style scoped>\n",
       "    .dataframe tbody tr th:only-of-type {\n",
       "        vertical-align: middle;\n",
       "    }\n",
       "\n",
       "    .dataframe tbody tr th {\n",
       "        vertical-align: top;\n",
       "    }\n",
       "\n",
       "    .dataframe thead th {\n",
       "        text-align: right;\n",
       "    }\n",
       "</style>\n",
       "<table border=\"1\" class=\"dataframe\">\n",
       "  <thead>\n",
       "    <tr style=\"text-align: right;\">\n",
       "      <th></th>\n",
       "      <th>score 1</th>\n",
       "      <th># candidates in neighbourhood</th>\n",
       "      <th>degree</th>\n",
       "      <th>isCandidate</th>\n",
       "    </tr>\n",
       "  </thead>\n",
       "  <tbody>\n",
       "    <tr>\n",
       "      <th>ENSG00000128591</th>\n",
       "      <td>0.0</td>\n",
       "      <td>0</td>\n",
       "      <td>13</td>\n",
       "      <td>False</td>\n",
       "    </tr>\n",
       "    <tr>\n",
       "      <th>ENSG00000197694</th>\n",
       "      <td>0.0</td>\n",
       "      <td>0</td>\n",
       "      <td>29</td>\n",
       "      <td>False</td>\n",
       "    </tr>\n",
       "    <tr>\n",
       "      <th>ENSG00000151849</th>\n",
       "      <td>0.0</td>\n",
       "      <td>0</td>\n",
       "      <td>26</td>\n",
       "      <td>False</td>\n",
       "    </tr>\n",
       "    <tr>\n",
       "      <th>ENSG00000172179</th>\n",
       "      <td>0.0</td>\n",
       "      <td>0</td>\n",
       "      <td>15</td>\n",
       "      <td>False</td>\n",
       "    </tr>\n",
       "    <tr>\n",
       "      <th>ENSG00000243646</th>\n",
       "      <td>0.0</td>\n",
       "      <td>0</td>\n",
       "      <td>15</td>\n",
       "      <td>False</td>\n",
       "    </tr>\n",
       "  </tbody>\n",
       "</table>\n",
       "</div>"
      ],
      "text/plain": [
       "                 score 1  # candidates in neighbourhood  degree  isCandidate\n",
       "ENSG00000128591      0.0                              0      13        False\n",
       "ENSG00000197694      0.0                              0      29        False\n",
       "ENSG00000151849      0.0                              0      26        False\n",
       "ENSG00000172179      0.0                              0      15        False\n",
       "ENSG00000243646      0.0                              0      15        False"
      ]
     },
     "execution_count": 23,
     "metadata": {},
     "output_type": "execute_result"
    }
   ],
   "source": [
    "df = pd.DataFrame.from_dict(d, orient='index', columns=['score 1', '# candidates in neighbourhood', 'degree', 'isCandidate'])\n",
    "df[df['degree'] > 10].sort_values(by='score 1', ascending=False).head()"
   ]
  },
  {
   "cell_type": "code",
   "execution_count": 24,
   "metadata": {},
   "outputs": [
    {
     "data": {
      "text/html": [
       "<div>\n",
       "<style scoped>\n",
       "    .dataframe tbody tr th:only-of-type {\n",
       "        vertical-align: middle;\n",
       "    }\n",
       "\n",
       "    .dataframe tbody tr th {\n",
       "        vertical-align: top;\n",
       "    }\n",
       "\n",
       "    .dataframe thead th {\n",
       "        text-align: right;\n",
       "    }\n",
       "</style>\n",
       "<table border=\"1\" class=\"dataframe\">\n",
       "  <thead>\n",
       "    <tr style=\"text-align: right;\">\n",
       "      <th></th>\n",
       "      <th>score 1</th>\n",
       "      <th># candidates in neighbourhood</th>\n",
       "      <th>degree</th>\n",
       "      <th>isCandidate</th>\n",
       "    </tr>\n",
       "  </thead>\n",
       "  <tbody>\n",
       "  </tbody>\n",
       "</table>\n",
       "</div>"
      ],
      "text/plain": [
       "Empty DataFrame\n",
       "Columns: [score 1, # candidates in neighbourhood, degree, isCandidate]\n",
       "Index: []"
      ]
     },
     "execution_count": 24,
     "metadata": {},
     "output_type": "execute_result"
    }
   ],
   "source": [
    "df[(df['score 1'] != 0) & (df['degree'] > 5)].sort_values(by='score 1', ascending=False).head()"
   ]
  },
  {
   "cell_type": "markdown",
   "metadata": {},
   "source": [
    "### Score 2: "
   ]
  },
  {
   "cell_type": "code",
   "execution_count": null,
   "metadata": {},
   "outputs": [],
   "source": []
  }
 ],
 "metadata": {
  "kernelspec": {
   "display_name": "pyEnv_PPI",
   "language": "python",
   "name": "python3"
  },
  "language_info": {
   "codemirror_mode": {
    "name": "ipython",
    "version": 3
   },
   "file_extension": ".py",
   "mimetype": "text/x-python",
   "name": "python",
   "nbconvert_exporter": "python",
   "pygments_lexer": "ipython3",
   "version": "3.9.18"
  }
 },
 "nbformat": 4,
 "nbformat_minor": 2
}
