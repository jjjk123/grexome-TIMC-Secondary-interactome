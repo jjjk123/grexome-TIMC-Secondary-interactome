{
 "cells": [
  {
   "cell_type": "code",
   "execution_count": 102,
   "metadata": {},
   "outputs": [],
   "source": [
    "import pandas as pd\n",
    "import numpy as np\n",
    "\n",
    "import collections\n",
    "\n",
    "import networkx as nx\n",
    "\n",
    "import statistics \n",
    "\n",
    "import matplotlib.pyplot as plt\n",
    "import seaborn as sns\n",
    "\n",
    "from tqdm import tqdm"
   ]
  },
  {
   "cell_type": "code",
   "execution_count": 103,
   "metadata": {},
   "outputs": [],
   "source": [
    "def candidates_in_neighbourhood(G, candidates, node):\n",
    "    sub_G = G.subgraph([n for n in G.neighbors(node)])\n",
    "    candidates_in_neighbourhood = [x for x in [n for n in sub_G] if x in candidates]\n",
    "    if candidates_in_neighbourhood:\n",
    "        return candidates_in_neighbourhood\n",
    "    else:\n",
    "        return []"
   ]
  },
  {
   "cell_type": "code",
   "execution_count": 104,
   "metadata": {},
   "outputs": [],
   "source": [
    "def candidates_at_distance(dict_distances, node, d):\n",
    "    return len([dist for dist in dict_distances.get(node).values() if dist == d])"
   ]
  },
  {
   "cell_type": "code",
   "execution_count": 106,
   "metadata": {},
   "outputs": [
    {
     "name": "stdout",
     "output_type": "stream",
     "text": [
      "Interactome size: 14465, number of MMAF candidates in interactome: 40\n"
     ]
    }
   ],
   "source": [
    "interactome_df = pd.read_csv('./data/Interactome_human.tsv', sep='\\t', header=None)\n",
    "candidates = pd.read_pickle(\"./data/candidateGenesList_MMAF.p\")\n",
    "\n",
    "G = nx.from_pandas_edgelist(interactome_df, 0, 1, edge_attr=True)\n",
    "\n",
    "candidates_MMAF = list(set([c for c in candidates if c in G.nodes()]))\n",
    "nonCandidates_MMAF = [n for n in G.nodes() if n not in candidates_MMAF] \n",
    "\n",
    "\n",
    "print(f\"Interactome size: {len(G.nodes())}, number of MMAF candidates in interactome: {len(candidates_MMAF)}\")"
   ]
  },
  {
   "cell_type": "code",
   "execution_count": 107,
   "metadata": {},
   "outputs": [
    {
     "name": "stderr",
     "output_type": "stream",
     "text": [
      "100%|██████████| 14425/14425 [00:24<00:00, 590.11it/s]"
     ]
    },
    {
     "name": "stdout",
     "output_type": "stream",
     "text": [
      "Longest distance between MMAF and non-MMAF gene: 10\n"
     ]
    },
    {
     "name": "stderr",
     "output_type": "stream",
     "text": [
      "\n"
     ]
    }
   ],
   "source": [
    "# find the longest distance between MMAF and non-MMAF genes\n",
    "dict_distances = {}\n",
    "longest_distance = 0\n",
    "\n",
    "for source in tqdm(nonCandidates_MMAF):\n",
    "    dict_tmp = {}\n",
    "\n",
    "    for target in candidates_MMAF:\n",
    "        try:\n",
    "            distance = nx.shortest_path_length(G, source, target)\n",
    "            dict_tmp[target] = distance\n",
    "\n",
    "            if distance > longest_distance:\n",
    "                longest_distance = distance\n",
    "        except:\n",
    "            continue\n",
    "\n",
    "    dict_distances[source] = dict_tmp\n",
    "\n",
    "print(f\"Longest distance between MMAF and non-MMAF gene: {longest_distance}\")"
   ]
  },
  {
   "cell_type": "markdown",
   "metadata": {},
   "source": [
    "### Calculate new centrality for every non-MMAF gene"
   ]
  },
  {
   "cell_type": "code",
   "execution_count": 108,
   "metadata": {},
   "outputs": [],
   "source": [
    "# set alpha parameter\n",
    "alpha = 0.5"
   ]
  },
  {
   "cell_type": "code",
   "execution_count": 111,
   "metadata": {},
   "outputs": [
    {
     "name": "stderr",
     "output_type": "stream",
     "text": [
      "100%|██████████| 14425/14425 [01:10<00:00, 205.04it/s]\n"
     ]
    }
   ],
   "source": [
    "# calculate new centrality for every non-MMAF gene\n",
    "dict_scores = {}\n",
    "\n",
    "for i in tqdm(range(len(nonCandidates_MMAF))):\n",
    "    node = nonCandidates_MMAF[i]\n",
    "    score = 0\n",
    "\n",
    "    candidates_MMAF_tmp = [node] + list(set(candidates_MMAF))\n",
    "    A = nx.adjacency_matrix(G, candidates_MMAF_tmp).todense()\n",
    "\n",
    "    for j in range(len(candidates_MMAF)):\n",
    "        candidate = candidates_MMAF[j]\n",
    "        d = dict_distances.get(node, 0).get(candidate, 0)\n",
    "        score += alpha ** d * np.linalg.matrix_power(A, d)[0][j]\n",
    "    \n",
    "    dict_scores[node] = score\n",
    "    \n",
    "dict_scores_sorted = dict(sorted(dict_scores.items(), key=lambda v: v[1], reverse=True))"
   ]
  },
  {
   "cell_type": "code",
   "execution_count": 112,
   "metadata": {},
   "outputs": [],
   "source": [
    "# get more info about each node (degree, candidates at distances)\n",
    "for n, score in dict_scores_sorted.items():\n",
    "    dict_scores_sorted[n] = [score, \n",
    "                             G.degree(n), \n",
    "                             candidates_at_distance(dict_distances, n, 1), \n",
    "                             candidates_at_distance(dict_distances, n, 2),\n",
    "                             candidates_at_distance(dict_distances, n, 3),\n",
    "                             candidates_at_distance(dict_distances, n, 4)]\n",
    "\n",
    "df = pd.DataFrame.from_dict(dict_scores_sorted, \n",
    "                            orient='index', \n",
    "                            columns=['score', 'degree', 'candidates at d=1', 'candidates at d=2', 'candidates at d=3', 'candidates at d=4'])"
   ]
  },
  {
   "cell_type": "code",
   "execution_count": null,
   "metadata": {},
   "outputs": [],
   "source": [
    "# get gene names to ENSG\n",
    "genes_df = pd.read_csv(\"./data/canonicalGenes.tsv\", sep='\\t')\n",
    "\n",
    "df_res = df.merge(genes_df, left_index=True, right_on='ENSG')"
   ]
  },
  {
   "cell_type": "code",
   "execution_count": 126,
   "metadata": {},
   "outputs": [
    {
     "data": {
      "text/html": [
       "<div>\n",
       "<style scoped>\n",
       "    .dataframe tbody tr th:only-of-type {\n",
       "        vertical-align: middle;\n",
       "    }\n",
       "\n",
       "    .dataframe tbody tr th {\n",
       "        vertical-align: top;\n",
       "    }\n",
       "\n",
       "    .dataframe thead th {\n",
       "        text-align: right;\n",
       "    }\n",
       "</style>\n",
       "<table border=\"1\" class=\"dataframe\">\n",
       "  <thead>\n",
       "    <tr style=\"text-align: right;\">\n",
       "      <th></th>\n",
       "      <th>score</th>\n",
       "      <th>degree</th>\n",
       "      <th>candidates at d=1</th>\n",
       "      <th>candidates at d=2</th>\n",
       "      <th>candidates at d=3</th>\n",
       "      <th>candidates at d=4</th>\n",
       "      <th>GENE</th>\n",
       "      <th>ENSG</th>\n",
       "    </tr>\n",
       "  </thead>\n",
       "  <tbody>\n",
       "    <tr>\n",
       "      <th>1632</th>\n",
       "      <td>3.2500</td>\n",
       "      <td>81</td>\n",
       "      <td>3</td>\n",
       "      <td>4</td>\n",
       "      <td>19</td>\n",
       "      <td>12</td>\n",
       "      <td>TXLNA</td>\n",
       "      <td>ENSG00000084652</td>\n",
       "    </tr>\n",
       "    <tr>\n",
       "      <th>14616</th>\n",
       "      <td>1.7500</td>\n",
       "      <td>19</td>\n",
       "      <td>2</td>\n",
       "      <td>1</td>\n",
       "      <td>10</td>\n",
       "      <td>24</td>\n",
       "      <td>SEPTIN1</td>\n",
       "      <td>ENSG00000180096</td>\n",
       "    </tr>\n",
       "    <tr>\n",
       "      <th>17578</th>\n",
       "      <td>1.6875</td>\n",
       "      <td>45</td>\n",
       "      <td>2</td>\n",
       "      <td>4</td>\n",
       "      <td>16</td>\n",
       "      <td>17</td>\n",
       "      <td>PNMA5</td>\n",
       "      <td>ENSG00000198883</td>\n",
       "    </tr>\n",
       "    <tr>\n",
       "      <th>3831</th>\n",
       "      <td>1.6250</td>\n",
       "      <td>62</td>\n",
       "      <td>2</td>\n",
       "      <td>5</td>\n",
       "      <td>20</td>\n",
       "      <td>12</td>\n",
       "      <td>KRT18</td>\n",
       "      <td>ENSG00000111057</td>\n",
       "    </tr>\n",
       "    <tr>\n",
       "      <th>2418</th>\n",
       "      <td>1.5000</td>\n",
       "      <td>103</td>\n",
       "      <td>2</td>\n",
       "      <td>6</td>\n",
       "      <td>15</td>\n",
       "      <td>16</td>\n",
       "      <td>NINL</td>\n",
       "      <td>ENSG00000101004</td>\n",
       "    </tr>\n",
       "    <tr>\n",
       "      <th>2266</th>\n",
       "      <td>1.5000</td>\n",
       "      <td>50</td>\n",
       "      <td>2</td>\n",
       "      <td>1</td>\n",
       "      <td>20</td>\n",
       "      <td>12</td>\n",
       "      <td>MYH9</td>\n",
       "      <td>ENSG00000100345</td>\n",
       "    </tr>\n",
       "    <tr>\n",
       "      <th>16826</th>\n",
       "      <td>1.5000</td>\n",
       "      <td>52</td>\n",
       "      <td>2</td>\n",
       "      <td>4</td>\n",
       "      <td>14</td>\n",
       "      <td>19</td>\n",
       "      <td>BORCS6</td>\n",
       "      <td>ENSG00000196544</td>\n",
       "    </tr>\n",
       "    <tr>\n",
       "      <th>9256</th>\n",
       "      <td>1.5000</td>\n",
       "      <td>30</td>\n",
       "      <td>3</td>\n",
       "      <td>2</td>\n",
       "      <td>13</td>\n",
       "      <td>17</td>\n",
       "      <td>KIAA1328</td>\n",
       "      <td>ENSG00000150477</td>\n",
       "    </tr>\n",
       "    <tr>\n",
       "      <th>9237</th>\n",
       "      <td>1.4375</td>\n",
       "      <td>83</td>\n",
       "      <td>2</td>\n",
       "      <td>0</td>\n",
       "      <td>19</td>\n",
       "      <td>17</td>\n",
       "      <td>ITGB1</td>\n",
       "      <td>ENSG00000150093</td>\n",
       "    </tr>\n",
       "    <tr>\n",
       "      <th>3902</th>\n",
       "      <td>1.3125</td>\n",
       "      <td>78</td>\n",
       "      <td>2</td>\n",
       "      <td>0</td>\n",
       "      <td>25</td>\n",
       "      <td>13</td>\n",
       "      <td>GAPDH</td>\n",
       "      <td>ENSG00000111640</td>\n",
       "    </tr>\n",
       "    <tr>\n",
       "      <th>9178</th>\n",
       "      <td>1.1250</td>\n",
       "      <td>32</td>\n",
       "      <td>2</td>\n",
       "      <td>1</td>\n",
       "      <td>12</td>\n",
       "      <td>23</td>\n",
       "      <td>CPSF7</td>\n",
       "      <td>ENSG00000149532</td>\n",
       "    </tr>\n",
       "    <tr>\n",
       "      <th>1817</th>\n",
       "      <td>1.0000</td>\n",
       "      <td>2</td>\n",
       "      <td>0</td>\n",
       "      <td>0</td>\n",
       "      <td>0</td>\n",
       "      <td>0</td>\n",
       "      <td>TASP1</td>\n",
       "      <td>ENSG00000089123</td>\n",
       "    </tr>\n",
       "    <tr>\n",
       "      <th>12879</th>\n",
       "      <td>1.0000</td>\n",
       "      <td>2</td>\n",
       "      <td>0</td>\n",
       "      <td>0</td>\n",
       "      <td>0</td>\n",
       "      <td>0</td>\n",
       "      <td>PDGFD</td>\n",
       "      <td>ENSG00000170962</td>\n",
       "    </tr>\n",
       "    <tr>\n",
       "      <th>6367</th>\n",
       "      <td>1.0000</td>\n",
       "      <td>1</td>\n",
       "      <td>0</td>\n",
       "      <td>0</td>\n",
       "      <td>0</td>\n",
       "      <td>0</td>\n",
       "      <td>C1QL1</td>\n",
       "      <td>ENSG00000131094</td>\n",
       "    </tr>\n",
       "    <tr>\n",
       "      <th>17444</th>\n",
       "      <td>1.0000</td>\n",
       "      <td>2</td>\n",
       "      <td>0</td>\n",
       "      <td>0</td>\n",
       "      <td>0</td>\n",
       "      <td>0</td>\n",
       "      <td>NUDT16</td>\n",
       "      <td>ENSG00000198585</td>\n",
       "    </tr>\n",
       "    <tr>\n",
       "      <th>11860</th>\n",
       "      <td>1.0000</td>\n",
       "      <td>6</td>\n",
       "      <td>0</td>\n",
       "      <td>0</td>\n",
       "      <td>0</td>\n",
       "      <td>0</td>\n",
       "      <td>HTR3A</td>\n",
       "      <td>ENSG00000166736</td>\n",
       "    </tr>\n",
       "    <tr>\n",
       "      <th>9149</th>\n",
       "      <td>1.0000</td>\n",
       "      <td>1</td>\n",
       "      <td>0</td>\n",
       "      <td>0</td>\n",
       "      <td>0</td>\n",
       "      <td>0</td>\n",
       "      <td>HTR3B</td>\n",
       "      <td>ENSG00000149305</td>\n",
       "    </tr>\n",
       "    <tr>\n",
       "      <th>14253</th>\n",
       "      <td>1.0000</td>\n",
       "      <td>1</td>\n",
       "      <td>0</td>\n",
       "      <td>0</td>\n",
       "      <td>0</td>\n",
       "      <td>0</td>\n",
       "      <td>HTR3C</td>\n",
       "      <td>ENSG00000178084</td>\n",
       "    </tr>\n",
       "    <tr>\n",
       "      <th>15891</th>\n",
       "      <td>1.0000</td>\n",
       "      <td>1</td>\n",
       "      <td>0</td>\n",
       "      <td>0</td>\n",
       "      <td>0</td>\n",
       "      <td>0</td>\n",
       "      <td>HTR3D</td>\n",
       "      <td>ENSG00000186090</td>\n",
       "    </tr>\n",
       "    <tr>\n",
       "      <th>15878</th>\n",
       "      <td>1.0000</td>\n",
       "      <td>1</td>\n",
       "      <td>0</td>\n",
       "      <td>0</td>\n",
       "      <td>0</td>\n",
       "      <td>0</td>\n",
       "      <td>HTR3E</td>\n",
       "      <td>ENSG00000186038</td>\n",
       "    </tr>\n",
       "  </tbody>\n",
       "</table>\n",
       "</div>"
      ],
      "text/plain": [
       "        score  degree  candidates at d=1  candidates at d=2  \\\n",
       "1632   3.2500      81                  3                  4   \n",
       "14616  1.7500      19                  2                  1   \n",
       "17578  1.6875      45                  2                  4   \n",
       "3831   1.6250      62                  2                  5   \n",
       "2418   1.5000     103                  2                  6   \n",
       "2266   1.5000      50                  2                  1   \n",
       "16826  1.5000      52                  2                  4   \n",
       "9256   1.5000      30                  3                  2   \n",
       "9237   1.4375      83                  2                  0   \n",
       "3902   1.3125      78                  2                  0   \n",
       "9178   1.1250      32                  2                  1   \n",
       "1817   1.0000       2                  0                  0   \n",
       "12879  1.0000       2                  0                  0   \n",
       "6367   1.0000       1                  0                  0   \n",
       "17444  1.0000       2                  0                  0   \n",
       "11860  1.0000       6                  0                  0   \n",
       "9149   1.0000       1                  0                  0   \n",
       "14253  1.0000       1                  0                  0   \n",
       "15891  1.0000       1                  0                  0   \n",
       "15878  1.0000       1                  0                  0   \n",
       "\n",
       "       candidates at d=3  candidates at d=4      GENE             ENSG  \n",
       "1632                  19                 12     TXLNA  ENSG00000084652  \n",
       "14616                 10                 24   SEPTIN1  ENSG00000180096  \n",
       "17578                 16                 17     PNMA5  ENSG00000198883  \n",
       "3831                  20                 12     KRT18  ENSG00000111057  \n",
       "2418                  15                 16      NINL  ENSG00000101004  \n",
       "2266                  20                 12      MYH9  ENSG00000100345  \n",
       "16826                 14                 19    BORCS6  ENSG00000196544  \n",
       "9256                  13                 17  KIAA1328  ENSG00000150477  \n",
       "9237                  19                 17     ITGB1  ENSG00000150093  \n",
       "3902                  25                 13     GAPDH  ENSG00000111640  \n",
       "9178                  12                 23     CPSF7  ENSG00000149532  \n",
       "1817                   0                  0     TASP1  ENSG00000089123  \n",
       "12879                  0                  0     PDGFD  ENSG00000170962  \n",
       "6367                   0                  0     C1QL1  ENSG00000131094  \n",
       "17444                  0                  0    NUDT16  ENSG00000198585  \n",
       "11860                  0                  0     HTR3A  ENSG00000166736  \n",
       "9149                   0                  0     HTR3B  ENSG00000149305  \n",
       "14253                  0                  0     HTR3C  ENSG00000178084  \n",
       "15891                  0                  0     HTR3D  ENSG00000186090  \n",
       "15878                  0                  0     HTR3E  ENSG00000186038  "
      ]
     },
     "execution_count": 126,
     "metadata": {},
     "output_type": "execute_result"
    }
   ],
   "source": [
    "# get top 20 genes\n",
    "df_top = df_res.sort_values(by='score', ascending=False).head(20)\n",
    "df_top"
   ]
  },
  {
   "cell_type": "markdown",
   "metadata": {},
   "source": [
    "### Analyze the results"
   ]
  },
  {
   "cell_type": "code",
   "execution_count": 118,
   "metadata": {},
   "outputs": [
    {
     "data": {
      "text/plain": [
       "<Axes: xlabel='score', ylabel='Count'>"
      ]
     },
     "execution_count": 118,
     "metadata": {},
     "output_type": "execute_result"
    },
    {
     "data": {
      "image/png": "[encoded data removed]",
      "text/plain": [
       "<Figure size 640x480 with 1 Axes>"
      ]
     },
     "metadata": {},
     "output_type": "display_data"
    }
   ],
   "source": [
    "sns.histplot(data=df, x='score')"
   ]
  },
  {
   "cell_type": "code",
   "execution_count": 120,
   "metadata": {},
   "outputs": [
    {
     "name": "stderr",
     "output_type": "stream",
     "text": [
      "/home/kubicaj/python_venvs/pyEnv_PPI/lib64/python3.9/site-packages/seaborn/_base.py:949: FutureWarning: When grouping with a length-1 list-like, you will need to pass a length-1 tuple to get_group in a future version of pandas. Pass `(name,)` instead of `name` to silence this warning.\n",
      "  data_subset = grouped_data.get_group(pd_key)\n"
     ]
    },
    {
     "data": {
      "text/plain": [
       "<Axes: ylabel='score'>"
      ]
     },
     "execution_count": 120,
     "metadata": {},
     "output_type": "execute_result"
    },
    {
     "data": {
      "image/png": "[encoded data removed]",
      "text/plain": [
       "<Figure size 640x480 with 1 Axes>"
      ]
     },
     "metadata": {},
     "output_type": "display_data"
    }
   ],
   "source": [
    "sns.violinplot(data=df, y='score')"
   ]
  },
  {
   "cell_type": "markdown",
   "metadata": {},
   "source": [
    "### Analyze scores for new candidates from 13/02/2024"
   ]
  },
  {
   "cell_type": "code",
   "execution_count": 167,
   "metadata": {},
   "outputs": [],
   "source": [
    "new_candidates = ['CLHC1', 'PHF20', 'NUSAP1', 'CDC20B', 'FAM221A', 'GALR3', 'LRRC9', 'KIF27', 'ZNF208', 'C6orf118', 'CCDC66', 'CCNA1', 'DDX43', 'FSCB', 'FHAD1', 'LRGUK', 'MYCBPAP', 'MYH7B', 'PCDHB15', 'SAMD15', 'SPACA9', 'SPATA24', 'SPATA6', 'TSSK4', 'TTLL2']\n",
    "dict_new_candidates = dict([(gene, genes_df[genes_df['GENE'] == gene]['ENSG'].values[0]) for gene in new_candidates])"
   ]
  },
  {
   "cell_type": "code",
   "execution_count": 152,
   "metadata": {},
   "outputs": [
    {
     "data": {
      "text/plain": [
       "0.68"
      ]
     },
     "execution_count": 152,
     "metadata": {},
     "output_type": "execute_result"
    }
   ],
   "source": [
    "# check what percentage of new candidates is in interactome\n",
    "len([nc for nc in dict_new_candidates.values() if nc in G.nodes()]) / len(dict_new_candidates.values())"
   ]
  },
  {
   "cell_type": "code",
   "execution_count": 171,
   "metadata": {},
   "outputs": [],
   "source": [
    "# check scores of new candidates\n",
    "df_new_candidates = df_res[df_res['ENSG'].isin(dict_new_candidates.values())]"
   ]
  },
  {
   "cell_type": "code",
   "execution_count": 173,
   "metadata": {},
   "outputs": [
    {
     "name": "stderr",
     "output_type": "stream",
     "text": [
      "/home/kubicaj/python_venvs/pyEnv_PPI/lib64/python3.9/site-packages/seaborn/_base.py:949: FutureWarning: When grouping with a length-1 list-like, you will need to pass a length-1 tuple to get_group in a future version of pandas. Pass `(name,)` instead of `name` to silence this warning.\n",
      "  data_subset = grouped_data.get_group(pd_key)\n"
     ]
    },
    {
     "data": {
      "image/png": "[encoded data removed]",
      "text/plain": [
       "<Figure size 640x480 with 1 Axes>"
      ]
     },
     "metadata": {},
     "output_type": "display_data"
    }
   ],
   "source": [
    "# plot scores of new candidates\n",
    "sns.violinplot(data=df, y='score')\n",
    "plt.title(\"Scores of new candidates from 13/02/2024\")\n",
    "\n",
    "for idx, row in df_new_candidates.iterrows():\n",
    "    gene = row['GENE']\n",
    "    score = row['score']\n",
    "    plt.plot(score, 'or')\n",
    "    plt.text(0, score, s=f\"{gene}, {score}\")"
   ]
  }
 ],
 "metadata": {
  "kernelspec": {
   "display_name": "pyEnv_PPI",
   "language": "python",
   "name": "python3"
  },
  "language_info": {
   "codemirror_mode": {
    "name": "ipython",
    "version": 3
   },
   "file_extension": ".py",
   "mimetype": "text/x-python",
   "name": "python",
   "nbconvert_exporter": "python",
   "pygments_lexer": "ipython3",
   "version": "3.9.18"
  }
 },
 "nbformat": 4,
 "nbformat_minor": 2
}
