{
 "cells": [
  {
   "cell_type": "code",
   "execution_count": 1,
   "metadata": {},
   "outputs": [
    {
     "name": "stderr",
     "output_type": "stream",
     "text": [
      "/home/kubicaj/python_venvs/pyEnv_PPI/lib64/python3.9/site-packages/networkx/utils/backends.py:135: RuntimeWarning: networkx backend defined more than once: nx-loopback\n",
      "  backends.update(_get_backends(\"networkx.backends\"))\n"
     ]
    }
   ],
   "source": [
    "import pandas \n",
    "\n",
    "import matplotlib.pyplot\n",
    "import seaborn\n",
    "\n",
    "from scipy.stats import ranksums\n",
    "\n",
    "from newCentrality_v4 import parse_interactome, parse_causal_genes"
   ]
  },
  {
   "cell_type": "markdown",
   "metadata": {},
   "source": [
    "#### Load and parse the necessary data"
   ]
  },
  {
   "cell_type": "code",
   "execution_count": 2,
   "metadata": {},
   "outputs": [],
   "source": [
    "PHENOTYPE = \"MMAF\""
   ]
  },
  {
   "cell_type": "code",
   "execution_count": 3,
   "metadata": {},
   "outputs": [],
   "source": [
    "interactome, genes = parse_interactome(interactome_file=\"data/Interactome_human.sif\")\n",
    "\n",
    "causal_genes = parse_causal_genes(causal_genes_file=\"data/causalGenes_allPhenotypes.csv\",\n",
    "                                  canonical_genes_file=\"data/canonicalGenes.tsv\",\n",
    "                                  genes=genes)"
   ]
  },
  {
   "cell_type": "code",
   "execution_count": 4,
   "metadata": {},
   "outputs": [],
   "source": [
    "# load scores\n",
    "scores = {}\n",
    "\n",
    "with open(f\"scores.tsv\", 'r') as f:\n",
    "    # skip header\n",
    "    next(f)\n",
    "\n",
    "    data = f.read().splitlines()\n",
    "    for line in data:\n",
    "        line_splitted = line.split('\\t')\n",
    "        gene, score = line_splitted\n",
    "        # skip causal genes\n",
    "        if causal_genes.get(gene) == 1:\n",
    "            continue\n",
    "        scores[gene] = float(score)"
   ]
  },
  {
   "cell_type": "code",
   "execution_count": 5,
   "metadata": {},
   "outputs": [],
   "source": [
    "# load scores for d=10\n",
    "scores_d10 = {}\n",
    "\n",
    "with open(f\"scores_d10.tsv\", 'r') as f:\n",
    "    # skip header\n",
    "    next(f)\n",
    "\n",
    "    data = f.read().splitlines()\n",
    "    for line in data:\n",
    "        line_splitted = line.split('\\t')\n",
    "        gene, score = line_splitted\n",
    "        # skip causal genes\n",
    "        if causal_genes.get(gene) == 1:\n",
    "            continue\n",
    "        scores_d10[gene] = float(score)"
   ]
  },
  {
   "cell_type": "markdown",
   "metadata": {},
   "source": [
    "#### Analyze leave-one-out results: newCentrality_v4.py"
   ]
  },
  {
   "cell_type": "code",
   "execution_count": 6,
   "metadata": {},
   "outputs": [],
   "source": [
    "# load left-out scores\n",
    "scores_left_out = {}\n",
    "\n",
    "with open(f\"leave_one_out/left_out_scores.tsv\", 'r') as f:\n",
    "    # skip header\n",
    "    next(f)\n",
    "\n",
    "    data = f.read().splitlines()\n",
    "    for line in data:\n",
    "        line_splitted = line.split('\\t')\n",
    "        gene, score = line_splitted\n",
    "        scores_left_out[gene] = float(score)"
   ]
  },
  {
   "cell_type": "code",
   "execution_count": 7,
   "metadata": {},
   "outputs": [],
   "source": [
    "# load left-out scores for d=10\n",
    "scores_left_out_d10 = {}\n",
    "\n",
    "with open(f\"leave_one_out_d10/left_out_scores.tsv\", 'r') as f:\n",
    "    # skip header\n",
    "    next(f)\n",
    "\n",
    "    data = f.read().splitlines()\n",
    "    for line in data:\n",
    "        line_splitted = line.split('\\t')\n",
    "        gene, score = line_splitted\n",
    "        scores_left_out_d10[gene] = float(score)"
   ]
  },
  {
   "cell_type": "markdown",
   "metadata": {},
   "source": [
    "#### Analyze leave-one-out results: pageRankCentrality.py"
   ]
  },
  {
   "cell_type": "code",
   "execution_count": 31,
   "metadata": {},
   "outputs": [],
   "source": [
    "# load left-out scores\n",
    "scores_left_out = {}\n",
    "\n",
    "with open(f\"leave_one_out_pageRank/left_out_scores.tsv\", 'r') as f:\n",
    "    # skip header\n",
    "    next(f)\n",
    "\n",
    "    data = f.read().splitlines()\n",
    "    for line in data:\n",
    "        line_splitted = line.split('\\t')\n",
    "        gene, score = line_splitted\n",
    "        scores_left_out[gene] = float(score)"
   ]
  },
  {
   "cell_type": "markdown",
   "metadata": {},
   "source": [
    "#### Analyze degree centrality"
   ]
  },
  {
   "cell_type": "code",
   "execution_count": 7,
   "metadata": {},
   "outputs": [],
   "source": [
    "# load scores\n",
    "scores_DC = {}\n",
    "\n",
    "with open(f\"scores_DC.tsv\", 'r') as f:\n",
    "    # skip header\n",
    "    next(f)\n",
    "\n",
    "    data = f.read().splitlines()\n",
    "    for line in data:\n",
    "        line_splitted = line.split('\\t')\n",
    "        gene, score = line_splitted\n",
    "        # skip causal genes\n",
    "        if causal_genes.get(gene) == 0:\n",
    "            continue\n",
    "        scores_DC[gene] = float(score)"
   ]
  },
  {
   "cell_type": "markdown",
   "metadata": {},
   "source": [
    "#### Analyze betweenness centrality"
   ]
  },
  {
   "cell_type": "code",
   "execution_count": 8,
   "metadata": {},
   "outputs": [],
   "source": [
    "# load scores\n",
    "scores_BC = {}\n",
    "\n",
    "with open(f\"scores_BC.tsv\", 'r') as f:\n",
    "    # skip header\n",
    "    next(f)\n",
    "\n",
    "    data = f.read().splitlines()\n",
    "    for line in data:\n",
    "        line_splitted = line.split('\\t')\n",
    "        gene, score = line_splitted\n",
    "        # skip causal genes\n",
    "        if causal_genes.get(gene) == 0:\n",
    "            continue\n",
    "        scores_BC[gene] = float(score)"
   ]
  },
  {
   "cell_type": "markdown",
   "metadata": {},
   "source": [
    "#### Plot"
   ]
  },
  {
   "cell_type": "code",
   "execution_count": 12,
   "metadata": {},
   "outputs": [],
   "source": [
    "df_scores = pandas.DataFrame.from_dict(scores, \n",
    "                                       orient='index', \n",
    "                                       columns=['score'])\n",
    "df_scores['group'] = \"non-causal\"\n",
    "\n",
    "df_scores_d10 = pandas.DataFrame.from_dict(scores_d10, \n",
    "                                       orient='index', \n",
    "                                       columns=['score'])\n",
    "df_scores_d10['group'] = \"non-causal d=10\"\n",
    "\n",
    "df_scores_left_out = pandas.DataFrame.from_dict(scores_left_out, \n",
    "                                                orient='index', \n",
    "                                                columns=['score'])\n",
    "\n",
    "df_scores_left_out['group'] = 'left-out'\n",
    "\n",
    "df_scores_left_out_d10 = pandas.DataFrame.from_dict(scores_left_out_d10, \n",
    "                                                orient='index', \n",
    "                                                columns=['score'])\n",
    "\n",
    "df_scores_left_out_d10['group'] = 'left-out d=10'\n",
    "\n",
    "# # Add degree centrality\n",
    "# df_DC = pandas.DataFrame.from_dict(scores_DC,\n",
    "#                                    orient='index',\n",
    "#                                    columns=['score'])\n",
    "\n",
    "# df_DC['group'] = 'DC_causal'\n",
    "\n",
    "# # Add betweenness centrality\n",
    "\n",
    "# df_BC = pandas.DataFrame.from_dict(scores_BC,\n",
    "#                                    orient='index',\n",
    "#                                    columns=['score'])\n",
    "\n",
    "# df_BC['group'] = 'BC_causal'\n",
    "\n",
    "\n",
    "# concatenate dataframes for comparison\n",
    "df_compare = pandas.concat([df_scores, df_scores_left_out, df_scores_d10, df_scores_left_out_d10])"
   ]
  },
  {
   "cell_type": "code",
   "execution_count": 16,
   "metadata": {},
   "outputs": [
    {
     "data": {
      "text/plain": [
       "(-2.3545816823386394, 0.01854356770720196)"
      ]
     },
     "execution_count": 16,
     "metadata": {},
     "output_type": "execute_result"
    }
   ],
   "source": [
    "stat, p_value = ranksums(df_scores['score'].values, df_scores_left_out['score'].values)\n",
    "stat, p_value"
   ]
  },
  {
   "cell_type": "code",
   "execution_count": 14,
   "metadata": {},
   "outputs": [
    {
     "data": {
      "text/plain": [
       "(-1.3677313498703403, 0.08569809157479552)"
      ]
     },
     "execution_count": 14,
     "metadata": {},
     "output_type": "execute_result"
    }
   ],
   "source": [
    "stat, p_value = ranksums(df_scores_d10['score'].values, df_scores_left_out_d10['score'].values, alternative='less')\n",
    "stat, p_value"
   ]
  },
  {
   "cell_type": "code",
   "execution_count": 17,
   "metadata": {},
   "outputs": [
    {
     "data": {
      "text/plain": [
       "(0.0, 0.01)"
      ]
     },
     "execution_count": 17,
     "metadata": {},
     "output_type": "execute_result"
    },
    {
     "data": {
      "image/png": "[encoded data removed]",
      "text/plain": [
       "<Figure size 640x480 with 1 Axes>"
      ]
     },
     "metadata": {},
     "output_type": "display_data"
    }
   ],
   "source": [
    "# plot\n",
    "seaborn.boxplot(data=df_compare, x='group', y='score')\n",
    "matplotlib.pyplot.text(0, 0.001, s=f\"p-value={p_value} (Wilcoxon rank-sum test)\")\n",
    "matplotlib.pyplot.title(f\"Compare non-causal genes scores (all {PHENOTYPE} genes used)\\n with scores for {PHENOTYPE} genes (leave-one-out)\\n and degree centrality\")\n",
    "matplotlib.pyplot.ylim(0, 0.01)"
   ]
  },
  {
   "cell_type": "code",
   "execution_count": null,
   "metadata": {},
   "outputs": [],
   "source": []
  }
 ],
 "metadata": {
  "kernelspec": {
   "display_name": "pyEnv_PPI",
   "language": "python",
   "name": "python3"
  },
  "language_info": {
   "codemirror_mode": {
    "name": "ipython",
    "version": 3
   },
   "file_extension": ".py",
   "mimetype": "text/x-python",
   "name": "python",
   "nbconvert_exporter": "python",
   "pygments_lexer": "ipython3",
   "version": "3.9.18"
  }
 },
 "nbformat": 4,
 "nbformat_minor": 2
}
