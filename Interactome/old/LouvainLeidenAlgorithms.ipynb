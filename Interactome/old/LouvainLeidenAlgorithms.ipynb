{
 "cells": [
  {
   "cell_type": "code",
   "execution_count": 42,
   "metadata": {},
   "outputs": [],
   "source": [
    "import pandas as pd\n",
    "\n",
    "import community \n",
    "import leidenalg\n",
    "\n",
    "import networkx as nx\n",
    "import igraph as ig"
   ]
  },
  {
   "cell_type": "code",
   "execution_count": 43,
   "metadata": {},
   "outputs": [],
   "source": [
    "interactome_df = pd.read_csv('./data/Interactome_human.tsv', sep='\\t', header=None)"
   ]
  },
  {
   "cell_type": "code",
   "execution_count": 44,
   "metadata": {},
   "outputs": [],
   "source": [
    "G = nx.from_pandas_edgelist(interactome_df, 0, 1, edge_attr=True)"
   ]
  },
  {
   "cell_type": "code",
   "execution_count": 45,
   "metadata": {},
   "outputs": [],
   "source": [
    "part_louvain = community.best_partition(G)"
   ]
  },
  {
   "cell_type": "code",
   "execution_count": 52,
   "metadata": {},
   "outputs": [
    {
     "ename": "TypeError",
     "evalue": "igraph supports string attribute names only, got <class 'int'>",
     "output_type": "error",
     "traceback": [
      "\u001b[0;31m---------------------------------------------------------------------------\u001b[0m",
      "\u001b[0;31mTypeError\u001b[0m                                 Traceback (most recent call last)",
      "Cell \u001b[0;32mIn[52], line 1\u001b[0m\n\u001b[0;32m----> 1\u001b[0m G \u001b[38;5;241m=\u001b[39m \u001b[43mig\u001b[49m\u001b[38;5;241;43m.\u001b[39;49m\u001b[43mGraph\u001b[49m\u001b[38;5;241;43m.\u001b[39;49m\u001b[43mDataFrame\u001b[49m\u001b[43m(\u001b[49m\u001b[43minteractome_df\u001b[49m\u001b[43m,\u001b[49m\u001b[43m \u001b[49m\u001b[43muse_vids\u001b[49m\u001b[38;5;241;43m=\u001b[39;49m\u001b[38;5;28;43;01mFalse\u001b[39;49;00m\u001b[43m)\u001b[49m\n",
      "File \u001b[0;32m~/python_venvs/pyEnv_PPI/lib64/python3.9/site-packages/igraph/io/objects.py:506\u001b[0m, in \u001b[0;36m_construct_graph_from_dataframe\u001b[0;34m(cls, edges, directed, vertices, use_vids)\u001b[0m\n\u001b[1;32m    504\u001b[0m e_list \u001b[38;5;241m=\u001b[39m \u001b[38;5;28mlist\u001b[39m(edges\u001b[38;5;241m.\u001b[39miloc[:, :\u001b[38;5;241m2\u001b[39m]\u001b[38;5;241m.\u001b[39mitertuples(index\u001b[38;5;241m=\u001b[39m\u001b[38;5;28;01mFalse\u001b[39;00m, name\u001b[38;5;241m=\u001b[39m\u001b[38;5;28;01mNone\u001b[39;00m))\n\u001b[1;32m    505\u001b[0m e_attr \u001b[38;5;241m=\u001b[39m edges\u001b[38;5;241m.\u001b[39miloc[:, \u001b[38;5;241m2\u001b[39m:]\u001b[38;5;241m.\u001b[39mto_dict(orient\u001b[38;5;241m=\u001b[39m\u001b[38;5;124m\"\u001b[39m\u001b[38;5;124mlist\u001b[39m\u001b[38;5;124m\"\u001b[39m) \u001b[38;5;28;01mif\u001b[39;00m edges\u001b[38;5;241m.\u001b[39mshape[\u001b[38;5;241m1\u001b[39m] \u001b[38;5;241m>\u001b[39m \u001b[38;5;241m2\u001b[39m \u001b[38;5;28;01melse\u001b[39;00m \u001b[38;5;28;01mNone\u001b[39;00m\n\u001b[0;32m--> 506\u001b[0m \u001b[43mg\u001b[49m\u001b[38;5;241;43m.\u001b[39;49m\u001b[43madd_edges\u001b[49m\u001b[43m(\u001b[49m\u001b[43me_list\u001b[49m\u001b[43m,\u001b[49m\u001b[43m \u001b[49m\u001b[43me_attr\u001b[49m\u001b[43m)\u001b[49m\n\u001b[1;32m    508\u001b[0m \u001b[38;5;28;01mreturn\u001b[39;00m g\n",
      "File \u001b[0;32m~/python_venvs/pyEnv_PPI/lib64/python3.9/site-packages/igraph/basic.py:46\u001b[0m, in \u001b[0;36m_add_edges\u001b[0;34m(graph, es, attributes)\u001b[0m\n\u001b[1;32m     44\u001b[0m \u001b[38;5;28;01mif\u001b[39;00m (attributes \u001b[38;5;129;01mis\u001b[39;00m \u001b[38;5;129;01mnot\u001b[39;00m \u001b[38;5;28;01mNone\u001b[39;00m) \u001b[38;5;129;01mand\u001b[39;00m (n \u001b[38;5;241m>\u001b[39m \u001b[38;5;241m0\u001b[39m):\n\u001b[1;32m     45\u001b[0m     \u001b[38;5;28;01mfor\u001b[39;00m key, val \u001b[38;5;129;01min\u001b[39;00m attributes\u001b[38;5;241m.\u001b[39mitems():\n\u001b[0;32m---> 46\u001b[0m         \u001b[43mgraph\u001b[49m\u001b[38;5;241;43m.\u001b[39;49m\u001b[43mes\u001b[49m\u001b[43m[\u001b[49m\u001b[43meid\u001b[49m\u001b[43m:\u001b[49m\u001b[43m]\u001b[49m\u001b[43m[\u001b[49m\u001b[43mkey\u001b[49m\u001b[43m]\u001b[49m \u001b[38;5;241m=\u001b[39m val\n\u001b[1;32m     47\u001b[0m \u001b[38;5;28;01mreturn\u001b[39;00m res\n",
      "\u001b[0;31mTypeError\u001b[0m: igraph supports string attribute names only, got <class 'int'>"
     ]
    }
   ],
   "source": [
    "G = ig.Graph.DataFrame(interactome_df, use_vids=False)"
   ]
  },
  {
   "cell_type": "code",
   "execution_count": 41,
   "metadata": {},
   "outputs": [
    {
     "ename": "AttributeError",
     "evalue": "'Graph' object has no attribute 'vcount'",
     "output_type": "error",
     "traceback": [
      "\u001b[0;31m---------------------------------------------------------------------------\u001b[0m",
      "\u001b[0;31mAttributeError\u001b[0m                            Traceback (most recent call last)",
      "Cell \u001b[0;32mIn[41], line 1\u001b[0m\n\u001b[0;32m----> 1\u001b[0m part_leiden \u001b[38;5;241m=\u001b[39m \u001b[43mleidenalg\u001b[49m\u001b[38;5;241;43m.\u001b[39;49m\u001b[43mfind_partition\u001b[49m\u001b[43m(\u001b[49m\u001b[43mG\u001b[49m\u001b[43m,\u001b[49m\u001b[43m \u001b[49m\u001b[43mleidenalg\u001b[49m\u001b[38;5;241;43m.\u001b[39;49m\u001b[43mModularityVertexPartition\u001b[49m\u001b[43m)\u001b[49m\n",
      "File \u001b[0;32m~/python_venvs/pyEnv_PPI/lib64/python3.9/site-packages/leidenalg/functions.py:81\u001b[0m, in \u001b[0;36mfind_partition\u001b[0;34m(graph, partition_type, initial_membership, weights, n_iterations, max_comm_size, seed, **kwargs)\u001b[0m\n\u001b[1;32m     79\u001b[0m \u001b[38;5;28;01mif\u001b[39;00m \u001b[38;5;129;01mnot\u001b[39;00m weights \u001b[38;5;129;01mis\u001b[39;00m \u001b[38;5;28;01mNone\u001b[39;00m:\n\u001b[1;32m     80\u001b[0m   kwargs[\u001b[38;5;124m'\u001b[39m\u001b[38;5;124mweights\u001b[39m\u001b[38;5;124m'\u001b[39m] \u001b[38;5;241m=\u001b[39m weights\n\u001b[0;32m---> 81\u001b[0m partition \u001b[38;5;241m=\u001b[39m \u001b[43mpartition_type\u001b[49m\u001b[43m(\u001b[49m\u001b[43mgraph\u001b[49m\u001b[43m,\u001b[49m\n\u001b[1;32m     82\u001b[0m \u001b[43m                           \u001b[49m\u001b[43minitial_membership\u001b[49m\u001b[38;5;241;43m=\u001b[39;49m\u001b[43minitial_membership\u001b[49m\u001b[43m,\u001b[49m\n\u001b[1;32m     83\u001b[0m \u001b[43m                           \u001b[49m\u001b[38;5;241;43m*\u001b[39;49m\u001b[38;5;241;43m*\u001b[39;49m\u001b[43mkwargs\u001b[49m\u001b[43m)\u001b[49m\n\u001b[1;32m     84\u001b[0m optimiser \u001b[38;5;241m=\u001b[39m Optimiser()\n\u001b[1;32m     86\u001b[0m optimiser\u001b[38;5;241m.\u001b[39mmax_comm_size \u001b[38;5;241m=\u001b[39m max_comm_size\n",
      "File \u001b[0;32m~/python_venvs/pyEnv_PPI/lib64/python3.9/site-packages/leidenalg/VertexPartition.py:446\u001b[0m, in \u001b[0;36mModularityVertexPartition.__init__\u001b[0;34m(self, graph, initial_membership, weights)\u001b[0m\n\u001b[1;32m    443\u001b[0m \u001b[38;5;28;01mif\u001b[39;00m initial_membership \u001b[38;5;129;01mis\u001b[39;00m \u001b[38;5;129;01mnot\u001b[39;00m \u001b[38;5;28;01mNone\u001b[39;00m:\n\u001b[1;32m    444\u001b[0m   initial_membership \u001b[38;5;241m=\u001b[39m \u001b[38;5;28mlist\u001b[39m(initial_membership)\n\u001b[0;32m--> 446\u001b[0m \u001b[38;5;28;43msuper\u001b[39;49m\u001b[43m(\u001b[49m\u001b[43mModularityVertexPartition\u001b[49m\u001b[43m,\u001b[49m\u001b[43m \u001b[49m\u001b[38;5;28;43mself\u001b[39;49m\u001b[43m)\u001b[49m\u001b[38;5;241;43m.\u001b[39;49m\u001b[38;5;21;43m__init__\u001b[39;49m\u001b[43m(\u001b[49m\u001b[43mgraph\u001b[49m\u001b[43m,\u001b[49m\u001b[43m \u001b[49m\u001b[43minitial_membership\u001b[49m\u001b[43m)\u001b[49m\n\u001b[1;32m    447\u001b[0m pygraph_t \u001b[38;5;241m=\u001b[39m _get_py_capsule(graph)\n\u001b[1;32m    449\u001b[0m \u001b[38;5;28;01mif\u001b[39;00m weights \u001b[38;5;129;01mis\u001b[39;00m \u001b[38;5;129;01mnot\u001b[39;00m \u001b[38;5;28;01mNone\u001b[39;00m:\n",
      "File \u001b[0;32m~/python_venvs/pyEnv_PPI/lib64/python3.9/site-packages/leidenalg/VertexPartition.py:54\u001b[0m, in \u001b[0;36mMutableVertexPartition.__init__\u001b[0;34m(self, graph, initial_membership)\u001b[0m\n\u001b[1;32m     51\u001b[0m \u001b[38;5;28;01mif\u001b[39;00m initial_membership \u001b[38;5;129;01mis\u001b[39;00m \u001b[38;5;129;01mnot\u001b[39;00m \u001b[38;5;28;01mNone\u001b[39;00m:\n\u001b[1;32m     52\u001b[0m   initial_membership \u001b[38;5;241m=\u001b[39m \u001b[38;5;28mlist\u001b[39m(initial_membership)\n\u001b[0;32m---> 54\u001b[0m \u001b[38;5;28;43msuper\u001b[39;49m\u001b[43m(\u001b[49m\u001b[43mMutableVertexPartition\u001b[49m\u001b[43m,\u001b[49m\u001b[43m \u001b[49m\u001b[38;5;28;43mself\u001b[39;49m\u001b[43m)\u001b[49m\u001b[38;5;241;43m.\u001b[39;49m\u001b[38;5;21;43m__init__\u001b[39;49m\u001b[43m(\u001b[49m\u001b[43mgraph\u001b[49m\u001b[43m,\u001b[49m\u001b[43m \u001b[49m\u001b[43minitial_membership\u001b[49m\u001b[43m)\u001b[49m\n",
      "File \u001b[0;32m~/python_venvs/pyEnv_PPI/lib64/python3.9/site-packages/igraph/clustering.py:238\u001b[0m, in \u001b[0;36mVertexClustering.__init__\u001b[0;34m(self, graph, membership, modularity, params, modularity_params)\u001b[0m\n\u001b[1;32m    223\u001b[0m \u001b[38;5;250m\u001b[39m\u001b[38;5;124;03m\"\"\"Creates a clustering object for a given graph.\u001b[39;00m\n\u001b[1;32m    224\u001b[0m \n\u001b[1;32m    225\u001b[0m \u001b[38;5;124;03m@param graph: the graph that will be associated to the clustering\u001b[39;00m\n\u001b[0;32m   (...)\u001b[0m\n\u001b[1;32m    235\u001b[0m \u001b[38;5;124;03m  containing a C{weight} key with the appropriate value here.\u001b[39;00m\n\u001b[1;32m    236\u001b[0m \u001b[38;5;124;03m\"\"\"\u001b[39;00m\n\u001b[1;32m    237\u001b[0m \u001b[38;5;28;01mif\u001b[39;00m membership \u001b[38;5;129;01mis\u001b[39;00m \u001b[38;5;28;01mNone\u001b[39;00m:\n\u001b[0;32m--> 238\u001b[0m     \u001b[38;5;28msuper\u001b[39m()\u001b[38;5;241m.\u001b[39m\u001b[38;5;21m__init__\u001b[39m([\u001b[38;5;241m0\u001b[39m] \u001b[38;5;241m*\u001b[39m \u001b[43mgraph\u001b[49m\u001b[38;5;241;43m.\u001b[39;49m\u001b[43mvcount\u001b[49m(), params)\n\u001b[1;32m    239\u001b[0m \u001b[38;5;28;01melse\u001b[39;00m:\n\u001b[1;32m    240\u001b[0m     \u001b[38;5;28;01mif\u001b[39;00m \u001b[38;5;28mlen\u001b[39m(membership) \u001b[38;5;241m!=\u001b[39m graph\u001b[38;5;241m.\u001b[39mvcount():\n",
      "\u001b[0;31mAttributeError\u001b[0m: 'Graph' object has no attribute 'vcount'"
     ]
    }
   ],
   "source": [
    "part_leiden = leidenalg.find_partition(G, leidenalg.ModularityVertexPartition)"
   ]
  }
 ],
 "metadata": {
  "kernelspec": {
   "display_name": "pyEnv_PPI",
   "language": "python",
   "name": "python3"
  },
  "language_info": {
   "codemirror_mode": {
    "name": "ipython",
    "version": 3
   },
   "file_extension": ".py",
   "mimetype": "text/x-python",
   "name": "python",
   "nbconvert_exporter": "python",
   "pygments_lexer": "ipython3",
   "version": "3.9.18"
  }
 },
 "nbformat": 4,
 "nbformat_minor": 2
}
