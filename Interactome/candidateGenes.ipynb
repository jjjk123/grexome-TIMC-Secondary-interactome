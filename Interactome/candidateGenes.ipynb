{
 "cells": [
  {
   "cell_type": "code",
   "execution_count": 14,
   "metadata": {},
   "outputs": [],
   "source": [
    "import pandas as pd"
   ]
  },
  {
   "cell_type": "code",
   "execution_count": 15,
   "metadata": {},
   "outputs": [],
   "source": [
    "uniprot_df = pd.read_csv(\"./data/Uniprot_output.tsv\", sep='\\t')"
   ]
  },
  {
   "cell_type": "code",
   "execution_count": 16,
   "metadata": {},
   "outputs": [],
   "source": [
    "candidates_df = pd.read_excel('./data/candidateGenes_allPhenotypes.xlsx')\n",
    "candidates = candidates_df['Gene'].dropna().to_list()"
   ]
  },
  {
   "cell_type": "code",
   "execution_count": 17,
   "metadata": {},
   "outputs": [
    {
     "data": {
      "text/html": [
       "<div>\n",
       "<style scoped>\n",
       "    .dataframe tbody tr th:only-of-type {\n",
       "        vertical-align: middle;\n",
       "    }\n",
       "\n",
       "    .dataframe tbody tr th {\n",
       "        vertical-align: top;\n",
       "    }\n",
       "\n",
       "    .dataframe thead th {\n",
       "        text-align: right;\n",
       "    }\n",
       "</style>\n",
       "<table border=\"1\" class=\"dataframe\">\n",
       "  <thead>\n",
       "    <tr style=\"text-align: right;\">\n",
       "      <th></th>\n",
       "      <th>0</th>\n",
       "      <th>1</th>\n",
       "    </tr>\n",
       "  </thead>\n",
       "  <tbody>\n",
       "    <tr>\n",
       "      <th>0</th>\n",
       "      <td>GENE</td>\n",
       "      <td>ENSG</td>\n",
       "    </tr>\n",
       "    <tr>\n",
       "      <th>1</th>\n",
       "      <td>ACTL7A</td>\n",
       "      <td>ENSG00000187003</td>\n",
       "    </tr>\n",
       "    <tr>\n",
       "      <th>2</th>\n",
       "      <td>AGPS</td>\n",
       "      <td>ENSG00000018510</td>\n",
       "    </tr>\n",
       "    <tr>\n",
       "      <th>3</th>\n",
       "      <td>AK7</td>\n",
       "      <td>ENSG00000140057</td>\n",
       "    </tr>\n",
       "    <tr>\n",
       "      <th>4</th>\n",
       "      <td>ALK</td>\n",
       "      <td>ENSG00000171094</td>\n",
       "    </tr>\n",
       "  </tbody>\n",
       "</table>\n",
       "</div>"
      ],
      "text/plain": [
       "        0                1\n",
       "0    GENE             ENSG\n",
       "1  ACTL7A  ENSG00000187003\n",
       "2    AGPS  ENSG00000018510\n",
       "3     AK7  ENSG00000140057\n",
       "4     ALK  ENSG00000171094"
      ]
     },
     "execution_count": 17,
     "metadata": {},
     "output_type": "execute_result"
    }
   ],
   "source": [
    "d = {}\n",
    "candidates_ensg_list = []\n",
    "\n",
    "d['GENE'] = 'ENSG'\n",
    "\n",
    "for candidate in candidates:\n",
    "    if candidate in uniprot_df['GeneNames'].to_list():\n",
    "        ensg_tmp = uniprot_df[uniprot_df['GeneNames'] == candidate]['ENSGs'].values[0]\n",
    "        ensg = ensg_tmp.split(',')[0]\n",
    "        d[candidate] = ensg\n",
    "        candidates_ensg_list.append(ensg)\n",
    "    else:\n",
    "        continue\n",
    "\n",
    "df = pd.DataFrame.from_dict(d.items())\n",
    "df.head()"
   ]
  },
  {
   "cell_type": "code",
   "execution_count": 18,
   "metadata": {},
   "outputs": [],
   "source": [
    "df.to_csv('./data/candidateGenes.tsv', sep='\\t', header=None, index=False)"
   ]
  },
  {
   "cell_type": "code",
   "execution_count": 19,
   "metadata": {},
   "outputs": [],
   "source": [
    "pd.to_pickle(candidates_ensg_list, \"./data/candidateGenesList.p\")"
   ]
  },
  {
   "cell_type": "markdown",
   "metadata": {},
   "source": [
    "### Create candidadate gene list for MMAF pathology"
   ]
  },
  {
   "cell_type": "code",
   "execution_count": 20,
   "metadata": {},
   "outputs": [],
   "source": [
    "candidates_df = pd.read_excel('./data/candidateGenes_allPhenotypes.xlsx')\n",
    "candidates_df = candidates_df[candidates_df['pathologyID'] =='MMAF']\n",
    "candidates = candidates_df['Gene'].dropna().to_list()"
   ]
  },
  {
   "cell_type": "code",
   "execution_count": 21,
   "metadata": {},
   "outputs": [
    {
     "data": {
      "text/html": [
       "<div>\n",
       "<style scoped>\n",
       "    .dataframe tbody tr th:only-of-type {\n",
       "        vertical-align: middle;\n",
       "    }\n",
       "\n",
       "    .dataframe tbody tr th {\n",
       "        vertical-align: top;\n",
       "    }\n",
       "\n",
       "    .dataframe thead th {\n",
       "        text-align: right;\n",
       "    }\n",
       "</style>\n",
       "<table border=\"1\" class=\"dataframe\">\n",
       "  <thead>\n",
       "    <tr style=\"text-align: right;\">\n",
       "      <th></th>\n",
       "      <th>0</th>\n",
       "      <th>1</th>\n",
       "    </tr>\n",
       "  </thead>\n",
       "  <tbody>\n",
       "    <tr>\n",
       "      <th>0</th>\n",
       "      <td>GENE</td>\n",
       "      <td>ENSG</td>\n",
       "    </tr>\n",
       "    <tr>\n",
       "      <th>1</th>\n",
       "      <td>AK7</td>\n",
       "      <td>ENSG00000140057</td>\n",
       "    </tr>\n",
       "    <tr>\n",
       "      <th>2</th>\n",
       "      <td>ARMC2</td>\n",
       "      <td>ENSG00000118690</td>\n",
       "    </tr>\n",
       "    <tr>\n",
       "      <th>3</th>\n",
       "      <td>CCDC39</td>\n",
       "      <td>ENSG00000284862</td>\n",
       "    </tr>\n",
       "    <tr>\n",
       "      <th>4</th>\n",
       "      <td>DNAH8</td>\n",
       "      <td>ENSG00000124721</td>\n",
       "    </tr>\n",
       "  </tbody>\n",
       "</table>\n",
       "</div>"
      ],
      "text/plain": [
       "        0                1\n",
       "0    GENE             ENSG\n",
       "1     AK7  ENSG00000140057\n",
       "2   ARMC2  ENSG00000118690\n",
       "3  CCDC39  ENSG00000284862\n",
       "4   DNAH8  ENSG00000124721"
      ]
     },
     "execution_count": 21,
     "metadata": {},
     "output_type": "execute_result"
    }
   ],
   "source": [
    "d = {}\n",
    "candidates_ensg_list = []\n",
    "\n",
    "d['GENE'] = 'ENSG'\n",
    "\n",
    "for candidate in candidates:\n",
    "    if candidate in uniprot_df['GeneNames'].to_list():\n",
    "        ensg_tmp = uniprot_df[uniprot_df['GeneNames'] == candidate]['ENSGs'].values[0]\n",
    "        ensg = ensg_tmp.split(',')[0]\n",
    "        d[candidate] = ensg\n",
    "        candidates_ensg_list.append(ensg)\n",
    "    else:\n",
    "        continue\n",
    "\n",
    "df = pd.DataFrame.from_dict(d.items())\n",
    "df.head()"
   ]
  },
  {
   "cell_type": "code",
   "execution_count": 22,
   "metadata": {},
   "outputs": [],
   "source": [
    "df.to_csv('./data/candidateGenes_MMAF.tsv', sep='\\t', header=None, index=False)"
   ]
  },
  {
   "cell_type": "code",
   "execution_count": 23,
   "metadata": {},
   "outputs": [],
   "source": [
    "pd.to_pickle(candidates_ensg_list, \"./data/candidateGenesList_MMAF.p\")"
   ]
  },
  {
   "cell_type": "markdown",
   "metadata": {},
   "source": [
    "### Create candidadate gene list for NOA pathology"
   ]
  },
  {
   "cell_type": "code",
   "execution_count": 24,
   "metadata": {},
   "outputs": [],
   "source": [
    "candidates_df = pd.read_excel('./data/candidateGenes_allPhenotypes.xlsx')\n",
    "candidates_df = candidates_df[candidates_df['pathologyID'] =='NOA']\n",
    "candidates = candidates_df['Gene'].dropna().to_list()"
   ]
  },
  {
   "cell_type": "code",
   "execution_count": 25,
   "metadata": {},
   "outputs": [
    {
     "data": {
      "text/html": [
       "<div>\n",
       "<style scoped>\n",
       "    .dataframe tbody tr th:only-of-type {\n",
       "        vertical-align: middle;\n",
       "    }\n",
       "\n",
       "    .dataframe tbody tr th {\n",
       "        vertical-align: top;\n",
       "    }\n",
       "\n",
       "    .dataframe thead th {\n",
       "        text-align: right;\n",
       "    }\n",
       "</style>\n",
       "<table border=\"1\" class=\"dataframe\">\n",
       "  <thead>\n",
       "    <tr style=\"text-align: right;\">\n",
       "      <th></th>\n",
       "      <th>0</th>\n",
       "      <th>1</th>\n",
       "    </tr>\n",
       "  </thead>\n",
       "  <tbody>\n",
       "    <tr>\n",
       "      <th>0</th>\n",
       "      <td>GENE</td>\n",
       "      <td>ENSG</td>\n",
       "    </tr>\n",
       "    <tr>\n",
       "      <th>1</th>\n",
       "      <td>AGPS</td>\n",
       "      <td>ENSG00000018510</td>\n",
       "    </tr>\n",
       "    <tr>\n",
       "      <th>2</th>\n",
       "      <td>APOA1</td>\n",
       "      <td>ENSG00000118137</td>\n",
       "    </tr>\n",
       "    <tr>\n",
       "      <th>3</th>\n",
       "      <td>ATM</td>\n",
       "      <td>ENSG00000149311</td>\n",
       "    </tr>\n",
       "    <tr>\n",
       "      <th>4</th>\n",
       "      <td>BRDT</td>\n",
       "      <td>ENSG00000137948</td>\n",
       "    </tr>\n",
       "  </tbody>\n",
       "</table>\n",
       "</div>"
      ],
      "text/plain": [
       "       0                1\n",
       "0   GENE             ENSG\n",
       "1   AGPS  ENSG00000018510\n",
       "2  APOA1  ENSG00000118137\n",
       "3    ATM  ENSG00000149311\n",
       "4   BRDT  ENSG00000137948"
      ]
     },
     "execution_count": 25,
     "metadata": {},
     "output_type": "execute_result"
    }
   ],
   "source": [
    "d = {}\n",
    "candidates_ensg_list = []\n",
    "\n",
    "d['GENE'] = 'ENSG'\n",
    "\n",
    "for candidate in candidates:\n",
    "    if candidate in uniprot_df['GeneNames'].to_list():\n",
    "        ensg_tmp = uniprot_df[uniprot_df['GeneNames'] == candidate]['ENSGs'].values[0]\n",
    "        ensg = ensg_tmp.split(',')[0]\n",
    "        d[candidate] = ensg\n",
    "        candidates_ensg_list.append(ensg)\n",
    "    else:\n",
    "        continue\n",
    "\n",
    "df = pd.DataFrame.from_dict(d.items())\n",
    "df.head()"
   ]
  },
  {
   "cell_type": "code",
   "execution_count": 26,
   "metadata": {},
   "outputs": [],
   "source": [
    "df.to_csv('./data/candidateGenes_NOA.tsv', sep='\\t', header=None, index=False)"
   ]
  },
  {
   "cell_type": "code",
   "execution_count": 27,
   "metadata": {},
   "outputs": [],
   "source": [
    "pd.to_pickle(candidates_ensg_list, \"./data/candidateGenesList_NOA.p\")"
   ]
  },
  {
   "cell_type": "code",
   "execution_count": null,
   "metadata": {},
   "outputs": [],
   "source": []
  }
 ],
 "metadata": {
  "kernelspec": {
   "display_name": "pyEnv_PPI",
   "language": "python",
   "name": "python3"
  },
  "language_info": {
   "codemirror_mode": {
    "name": "ipython",
    "version": 3
   },
   "file_extension": ".py",
   "mimetype": "text/x-python",
   "name": "python",
   "nbconvert_exporter": "python",
   "pygments_lexer": "ipython3",
   "version": "3.9.18"
  }
 },
 "nbformat": 4,
 "nbformat_minor": 2
}
