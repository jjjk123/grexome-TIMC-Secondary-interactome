{
 "cells": [
  {
   "cell_type": "code",
   "execution_count": 117,
   "metadata": {},
   "outputs": [],
   "source": [
    "import pandas as pd\n",
    "\n",
    "from math import sqrt\n",
    "\n",
    "import networkx as nx\n",
    "\n",
    "import matplotlib.pyplot as plt\n",
    "import seaborn as sns\n",
    "\n",
    "import pickle"
   ]
  },
  {
   "cell_type": "code",
   "execution_count": 2,
   "metadata": {},
   "outputs": [],
   "source": [
    "def candidates_in_neighbourhood(G, candidates, node):\n",
    "    sub_G = G.subgraph([n for n in G.neighbors(node)])\n",
    "    candidates_in_neighbourhood = [x for x in [n for n in sub_G] if x in candidates]\n",
    "    if candidates_in_neighbourhood:\n",
    "        return candidates_in_neighbourhood\n",
    "    else:\n",
    "        return []"
   ]
  },
  {
   "cell_type": "code",
   "execution_count": 3,
   "metadata": {},
   "outputs": [],
   "source": [
    "# modified version of eigenvector centrality that takes the number of candidates in the neighbourhood into account\n",
    "\n",
    "def katz_centrality(G, alpha=1, beta=1, max_iter=100, tol=1.0e-6, nstart=None, \n",
    "                           weight='weight'): \n",
    "    \"\"\"\n",
    "    Parameters \n",
    "    ---------- \n",
    "    G : graph \n",
    "      A networkx graph \n",
    "  \n",
    "    max_iter : integer, optional \n",
    "      Maximum number of iterations in power method. \n",
    "  \n",
    "    tol : float, optional \n",
    "      Error tolerance used to check convergence in power method iteration. \n",
    "  \n",
    "    nstart : dictionary, optional \n",
    "      Starting value of eigenvector iteration for each node. \n",
    "  \n",
    "    weight : None or string, optional \n",
    "      If None, all edge weights are considered equal. \n",
    "      Otherwise holds the name of the edge attribute used as weight.\n",
    "    \"\"\"\n",
    "    if type(G) == nx.MultiGraph or type(G) == nx.MultiDiGraph: \n",
    "        raise nx.NetworkXException(\"Not defined for multigraphs.\") \n",
    "  \n",
    "    if len(G) == 0: \n",
    "        raise nx.NetworkXException(\"Empty graph.\") \n",
    "  \n",
    "    if nstart is None: \n",
    "        # choose starting vector with entries of 1/len(G) \n",
    "        x = dict([(n, 1.0/len(G.nodes())) for n in G.nodes()]) \n",
    "    else: \n",
    "        x = nstart \n",
    "\n",
    "    nnodes = G.number_of_nodes() \n",
    "  \n",
    "    # make up to max_iter iterations \n",
    "    for i in range(max_iter): \n",
    "        xlast = x \n",
    "        x = dict.fromkeys(xlast, 0)\n",
    "  \n",
    "        # do the multiplication y^T = x^T A \n",
    "        for n in x.keys(): \n",
    "            for nbr in G[n]: \n",
    "                x[nbr] += xlast[n] * G[n][nbr].get(weight, 1)\n",
    "\n",
    "        # apply alpha and beta\n",
    "        for n in x:\n",
    "            x[n] = alpha * x[n] + beta[n]\n",
    "            \n",
    "        # normalize vector \n",
    "        try: \n",
    "            s = 1.0/sqrt(sum(v**2 for v in x.values())) # this should never be zero\n",
    "        except ZeroDivisionError: \n",
    "            s = 1.0\n",
    "\n",
    "        for n in x: \n",
    "            x[n] *= s \n",
    "            \n",
    "        # check convergence \n",
    "        err = sum([abs(x[n]-xlast[n]) for n in x]) \n",
    "        if err < nnodes*tol: \n",
    "            return x \n",
    "        \n",
    "    raise nx.NetworkXError(\"\"\"eigenvector_centrality(): \n",
    "power iteration failed to converge in %d iterations.\"%(i+1))\"\"\") "
   ]
  },
  {
   "cell_type": "code",
   "execution_count": 4,
   "metadata": {},
   "outputs": [
    {
     "data": {
      "text/plain": [
       "(14465, 92064)"
      ]
     },
     "execution_count": 4,
     "metadata": {},
     "output_type": "execute_result"
    }
   ],
   "source": [
    "# build interactome network\n",
    "interactome_df = pd.read_csv('./data/Interactome_human.tsv', sep='\\t', header=None)\n",
    "\n",
    "G = nx.from_pandas_edgelist(interactome_df, 0, 1, edge_attr=True)\n",
    "G.number_of_nodes(), G.number_of_edges()"
   ]
  },
  {
   "cell_type": "code",
   "execution_count": 30,
   "metadata": {},
   "outputs": [
    {
     "data": {
      "text/plain": [
       "41"
      ]
     },
     "execution_count": 30,
     "metadata": {},
     "output_type": "execute_result"
    }
   ],
   "source": [
    "# get MMAF candidate genes list\n",
    "candidates_MMAF = pd.read_pickle(\"./data/candidateGenesList_MMAF.p\")\n",
    "candidates_MMAF = [c for c in candidates_MMAF if c in G.nodes()]\n",
    "len(candidates_MMAF)"
   ]
  },
  {
   "cell_type": "code",
   "execution_count": 31,
   "metadata": {},
   "outputs": [],
   "source": [
    "# set parameters alpha and beta\n",
    "alpha = 0.5\n",
    "beta = 0.5"
   ]
  },
  {
   "cell_type": "code",
   "execution_count": 70,
   "metadata": {},
   "outputs": [],
   "source": [
    "# first calculate KC for every node in interactome\n",
    "beta_dict = dict([(n, beta*int(n in candidates_MMAF)) for n in G])\n",
    "\n",
    "res_KC = katz_centrality(G, alpha=alpha, beta=beta_dict)\n",
    "res_KC_sorted = dict(sorted(res_KC.items(), key=lambda v: v[1], reverse=True))\n",
    "\n",
    "# get more info about each node\n",
    "d = {}\n",
    "\n",
    "for n, kc in res_KC_sorted.items():\n",
    "    d[n] = (kc, G.degree(n), len(candidates_in_neighbourhood(G, candidates_MMAF, n)), (n in candidates_MMAF))\n",
    "\n",
    "df = pd.DataFrame.from_dict(d, orient='index', columns=['KC', 'degree', 'candidates in N', 'isCandidate'])\n",
    "df = df.sort_values(by='KC', ascending=False)"
   ]
  },
  {
   "cell_type": "code",
   "execution_count": 71,
   "metadata": {},
   "outputs": [
    {
     "data": {
      "text/html": [
       "<div>\n",
       "<style scoped>\n",
       "    .dataframe tbody tr th:only-of-type {\n",
       "        vertical-align: middle;\n",
       "    }\n",
       "\n",
       "    .dataframe tbody tr th {\n",
       "        vertical-align: top;\n",
       "    }\n",
       "\n",
       "    .dataframe thead th {\n",
       "        text-align: right;\n",
       "    }\n",
       "</style>\n",
       "<table border=\"1\" class=\"dataframe\">\n",
       "  <thead>\n",
       "    <tr style=\"text-align: right;\">\n",
       "      <th></th>\n",
       "      <th>KC</th>\n",
       "      <th>degree</th>\n",
       "      <th>candidates in N</th>\n",
       "      <th>isCandidate</th>\n",
       "    </tr>\n",
       "  </thead>\n",
       "  <tbody>\n",
       "    <tr>\n",
       "      <th>ENSG00000171135</th>\n",
       "      <td>1.091872e-01</td>\n",
       "      <td>103</td>\n",
       "      <td>0</td>\n",
       "      <td>False</td>\n",
       "    </tr>\n",
       "    <tr>\n",
       "      <th>ENSG00000168958</th>\n",
       "      <td>1.063078e-01</td>\n",
       "      <td>97</td>\n",
       "      <td>0</td>\n",
       "      <td>False</td>\n",
       "    </tr>\n",
       "    <tr>\n",
       "      <th>ENSG00000166257</th>\n",
       "      <td>1.024413e-01</td>\n",
       "      <td>99</td>\n",
       "      <td>0</td>\n",
       "      <td>False</td>\n",
       "    </tr>\n",
       "    <tr>\n",
       "      <th>ENSG00000141699</th>\n",
       "      <td>1.012126e-01</td>\n",
       "      <td>102</td>\n",
       "      <td>0</td>\n",
       "      <td>False</td>\n",
       "    </tr>\n",
       "    <tr>\n",
       "      <th>ENSG00000126262</th>\n",
       "      <td>9.996390e-02</td>\n",
       "      <td>101</td>\n",
       "      <td>0</td>\n",
       "      <td>False</td>\n",
       "    </tr>\n",
       "    <tr>\n",
       "      <th>...</th>\n",
       "      <td>...</td>\n",
       "      <td>...</td>\n",
       "      <td>...</td>\n",
       "      <td>...</td>\n",
       "    </tr>\n",
       "    <tr>\n",
       "      <th>ENSG00000080007</th>\n",
       "      <td>5.661493e-112</td>\n",
       "      <td>1</td>\n",
       "      <td>0</td>\n",
       "      <td>False</td>\n",
       "    </tr>\n",
       "    <tr>\n",
       "      <th>ENSG00000184735</th>\n",
       "      <td>5.661493e-112</td>\n",
       "      <td>1</td>\n",
       "      <td>0</td>\n",
       "      <td>False</td>\n",
       "    </tr>\n",
       "    <tr>\n",
       "      <th>ENSG00000198520</th>\n",
       "      <td>5.661493e-112</td>\n",
       "      <td>1</td>\n",
       "      <td>0</td>\n",
       "      <td>False</td>\n",
       "    </tr>\n",
       "    <tr>\n",
       "      <th>ENSG00000183044</th>\n",
       "      <td>5.661493e-112</td>\n",
       "      <td>1</td>\n",
       "      <td>0</td>\n",
       "      <td>False</td>\n",
       "    </tr>\n",
       "    <tr>\n",
       "      <th>ENSG00000137767</th>\n",
       "      <td>5.661493e-112</td>\n",
       "      <td>2</td>\n",
       "      <td>0</td>\n",
       "      <td>False</td>\n",
       "    </tr>\n",
       "  </tbody>\n",
       "</table>\n",
       "<p>14465 rows × 4 columns</p>\n",
       "</div>"
      ],
      "text/plain": [
       "                            KC  degree  candidates in N  isCandidate\n",
       "ENSG00000171135   1.091872e-01     103                0        False\n",
       "ENSG00000168958   1.063078e-01      97                0        False\n",
       "ENSG00000166257   1.024413e-01      99                0        False\n",
       "ENSG00000141699   1.012126e-01     102                0        False\n",
       "ENSG00000126262   9.996390e-02     101                0        False\n",
       "...                        ...     ...              ...          ...\n",
       "ENSG00000080007  5.661493e-112       1                0        False\n",
       "ENSG00000184735  5.661493e-112       1                0        False\n",
       "ENSG00000198520  5.661493e-112       1                0        False\n",
       "ENSG00000183044  5.661493e-112       1                0        False\n",
       "ENSG00000137767  5.661493e-112       2                0        False\n",
       "\n",
       "[14465 rows x 4 columns]"
      ]
     },
     "execution_count": 71,
     "metadata": {},
     "output_type": "execute_result"
    }
   ],
   "source": [
    "df"
   ]
  },
  {
   "cell_type": "code",
   "execution_count": 120,
   "metadata": {},
   "outputs": [],
   "source": [
    "# create a dictionary for KC comparison\n",
    "dict_compare = {}\n",
    "\n",
    "# create a dictionary with the following structure for the most affected genes :\n",
    "# {candidateLeftOout : {mostAffected : KC, 2ndMostAffected : KC, ...},\n",
    "#   ...}\n",
    "dict_most_affected = {}"
   ]
  },
  {
   "cell_type": "code",
   "execution_count": 112,
   "metadata": {},
   "outputs": [
    {
     "name": "stdout",
     "output_type": "stream",
     "text": [
      "Removed gene ENSG00000111254 from candidates\n",
      "Removed gene ENSG00000147081 from candidates\n",
      "Removed gene ENSG00000118690 from candidates\n",
      "Removed gene ENSG00000185658 from candidates\n",
      "Removed gene ENSG00000135205 from candidates\n",
      "Removed gene ENSG00000109881 from candidates\n",
      "Removed gene ENSG00000161973 from candidates\n",
      "Removed gene ENSG00000139537 from candidates\n",
      "Removed gene ENSG00000174799 from candidates\n",
      "Removed gene ENSG00000272514 from candidates\n",
      "Removed gene ENSG00000206530 from candidates\n",
      "Removed gene ENSG00000165164 from candidates\n",
      "Removed gene ENSG00000120051 from candidates\n",
      "Removed gene ENSG00000181378 from candidates\n",
      "Removed gene ENSG00000105792 from candidates\n",
      "Removed gene ENSG00000142609 from candidates\n",
      "Removed gene ENSG00000183833 from candidates\n",
      "Removed gene ENSG00000167646 from candidates\n",
      "Removed gene ENSG00000197653 from candidates\n",
      "Removed gene ENSG00000158486 from candidates\n",
      "Removed gene ENSG00000197653 from candidates\n",
      "Removed gene ENSG00000187775 from candidates\n",
      "Removed gene ENSG00000115423 from candidates\n",
      "Removed gene ENSG00000174844 from candidates\n",
      "Removed gene ENSG00000124721 from candidates\n",
      "Removed gene ENSG00000119661 from candidates\n",
      "Removed gene ENSG00000179532 from candidates\n",
      "Removed gene ENSG00000159625 from candidates\n",
      "Removed gene ENSG00000158163 from candidates\n",
      "Removed gene ENSG00000188738 from candidates\n",
      "Removed gene ENSG00000141013 from candidates\n",
      "Removed gene ENSG00000096872 from candidates\n",
      "Removed gene ENSG00000129646 from candidates\n",
      "Removed gene ENSG00000140623 from candidates\n",
      "Removed gene ENSG00000077327 from candidates\n",
      "Removed gene ENSG00000152582 from candidates\n",
      "Removed gene ENSG00000130413 from candidates\n",
      "Removed gene ENSG00000168026 from candidates\n",
      "Removed gene ENSG00000137473 from candidates\n",
      "Removed gene ENSG00000157796 from candidates\n",
      "Removed gene ENSG00000066185 from candidates\n"
     ]
    }
   ],
   "source": [
    "for candidate in candidates_MMAF:\n",
    "    # remove the candidate from candidate list\n",
    "    left_out_idx = candidates_MMAF.index(candidate)\n",
    "\n",
    "    candidates_MMAF_new = candidates_MMAF[:left_out_idx] + candidates_MMAF[left_out_idx+1:]\n",
    "\n",
    "    print(f\"Removed gene {candidate} from candidates\")\n",
    "\n",
    "    # set beta parameter for each node\n",
    "    beta_dict = dict([(n, beta*int(n in candidates_MMAF_new)) for n in G])\n",
    "\n",
    "    # calculate Katz centrality for each node\n",
    "    res_KC_candidateInList = katz_centrality(G, alpha=alpha, beta=beta_dict)\n",
    "    res_KC_candidateInList_sorted = dict(sorted(res_KC_candidateInList.items(), key=lambda v: v[1], reverse=True))\n",
    "\n",
    "    # compare KC of each node before and after removal of candidate\n",
    "    for idx, row in df.iterrows():\n",
    "        KC_candidateInList = row['KC']\n",
    "        KC_candidateNotInList = res_KC_candidateInList_sorted.get(idx)\n",
    "        KC_diff = KC_candidateInList - KC_candidateNotInList\n",
    "\n",
    "        dict_compare[idx] = {\"KC_candidateInList\": KC_candidateInList, \"KC_candidateNotInList\": KC_candidateNotInList, \"KC_diff\": KC_diff}\n",
    "\n",
    "    df_compare = pd.DataFrame.from_dict(dict_compare, orient='index', columns=['KC_candidateInList', 'KC_candidateNotInList', 'KC_diff'])\n",
    "    df_compare = df_compare.sort_values(by='KC_diff', ascending=False)\n",
    "\n",
    "    # get top 10 most affected genes\n",
    "    df_most_affected = df_compare.iloc[1:11]\n",
    "\n",
    "    dict_most_affected[candidate] = df_most_affected.to_dict('index')"
   ]
  },
  {
   "cell_type": "code",
   "execution_count": 119,
   "metadata": {},
   "outputs": [],
   "source": [
    "# save the results\n",
    "with open('interactome_analysis/MMAF/dict_most_affected_MMAF.p', 'wb') as handle:\n",
    "    pickle.dump(dict_most_affected, handle, protocol=pickle.HIGHEST_PROTOCOL)\n",
    "\n",
    "# and load the dictionary back\n",
    "with open('interactome_analysis/MMAF/dict_most_affected_MMAF.p', 'rb') as handle:\n",
    "    dict_most_affected = pickle.load(handle)"
   ]
  },
  {
   "cell_type": "code",
   "execution_count": 126,
   "metadata": {},
   "outputs": [
    {
     "name": "stderr",
     "output_type": "stream",
     "text": [
      "/tmp/ipykernel_6226/1068044071.py:11: UserWarning: set_ticklabels() should only be used with a fixed number of ticks, i.e. after set_ticks() or using a FixedLocator.\n",
      "  ax[0].set_xticklabels(df_top.index, rotation=90)\n",
      "/tmp/ipykernel_6226/1068044071.py:15: UserWarning: set_ticklabels() should only be used with a fixed number of ticks, i.e. after set_ticks() or using a FixedLocator.\n",
      "  ax[1].set_xticklabels(df_top.index, rotation=90)\n"
     ]
    },
    {
     "data": {
      "text/plain": [
       "<matplotlib.legend.Legend at 0x7f01279c9d60>"
      ]
     },
     "execution_count": 126,
     "metadata": {},
     "output_type": "execute_result"
    },
    {
     "data": {
      "image/png": "[encoded data removed]",
      "text/plain": [
       "<Figure size 1200x500 with 2 Axes>"
      ]
     },
     "metadata": {},
     "output_type": "display_data"
    }
   ],
   "source": [
    "# plot top 10 most affected genes by a given candidate\n",
    "candidate_of_interest = 'ENSG00000111254'\n",
    "\n",
    "fig, ax = plt.subplots(1, 2, figsize=(12, 5))\n",
    "fig.suptitle(f'{candidate_of_interest} impact on other nodes (top 10)')\n",
    "\n",
    "\n",
    "df_top = pd.DataFrame.from_dict(dict_most_affected.get(candidate_of_interest), orient='index', columns=['KC_candidateInList', 'KC_candidateNotInList', 'KC_diff'])\n",
    "sns.scatterplot(data=df_top, x=df_top.index, y='KC_candidateInList', ax=ax[0], label='KC_candidateInList')\n",
    "sns.scatterplot(data=df_top, x=df_top.index, y='KC_candidateNotInList', ax=ax[0], label='KC_candidateNotInList')\n",
    "ax[0].set_xticklabels(df_top.index, rotation=90)\n",
    "ax[0].legend()\n",
    "\n",
    "sns.scatterplot(data=df_top, x=df_top.index, y='KC_diff', ax=ax[1], label='difference in KC before and after removal')\n",
    "ax[1].set_xticklabels(df_top.index, rotation=90)\n",
    "ax[1].legend()"
   ]
  },
  {
   "cell_type": "code",
   "execution_count": null,
   "metadata": {},
   "outputs": [],
   "source": []
  }
 ],
 "metadata": {
  "kernelspec": {
   "display_name": "pyEnv_PPI",
   "language": "python",
   "name": "python3"
  },
  "language_info": {
   "codemirror_mode": {
    "name": "ipython",
    "version": 3
   },
   "file_extension": ".py",
   "mimetype": "text/x-python",
   "name": "python",
   "nbconvert_exporter": "python",
   "pygments_lexer": "ipython3",
   "version": "3.9.18"
  }
 },
 "nbformat": 4,
 "nbformat_minor": 2
}
