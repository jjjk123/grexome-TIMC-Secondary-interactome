{
 "cells": [
  {
   "cell_type": "code",
   "execution_count": 2,
   "metadata": {},
   "outputs": [],
   "source": [
    "import sys\n",
    "import pathlib\n",
    "\n",
    "import numpy\n",
    "import scipy\n",
    "\n",
    "import networkx\n",
    "\n",
    "sys.path.append(\"../scripts\")\n",
    "from utils import parse_interactome, parse_causal_genes, scores_to_TSV"
   ]
  },
  {
   "cell_type": "code",
   "execution_count": 3,
   "metadata": {},
   "outputs": [],
   "source": [
    "interactome, genes = parse_interactome(interactome_file=\"/home/kubicaj/calc/input/Interactome_human.sif\")"
   ]
  },
  {
   "cell_type": "code",
   "execution_count": 4,
   "metadata": {},
   "outputs": [],
   "source": [
    "causal_genes = parse_causal_genes(causal_genes_file=\"/home/kubicaj/calc/input/causalGenes_allPhenotypes.csv\", canonical_genes_file=\"/home/kubicaj/calc/input/canonicalGenes.tsv\", genes=genes)"
   ]
  },
  {
   "cell_type": "code",
   "execution_count": 5,
   "metadata": {},
   "outputs": [],
   "source": [
    "causal_genes_array = numpy.array([1 if causal_genes.get(n) == 1 else 0 for n in interactome.nodes()])"
   ]
  },
  {
   "cell_type": "code",
   "execution_count": 6,
   "metadata": {},
   "outputs": [],
   "source": [
    "A = networkx.to_scipy_sparse_array(interactome, format='csc')"
   ]
  },
  {
   "cell_type": "code",
   "execution_count": 7,
   "metadata": {},
   "outputs": [],
   "source": [
    "A = A / A.sum(axis=0)"
   ]
  },
  {
   "cell_type": "code",
   "execution_count": 8,
   "metadata": {},
   "outputs": [],
   "source": [
    "I = scipy.sparse.eye_array(m=A.shape[0])"
   ]
  },
  {
   "cell_type": "code",
   "execution_count": 9,
   "metadata": {},
   "outputs": [],
   "source": [
    "alpha = 0.1"
   ]
  },
  {
   "cell_type": "code",
   "execution_count": 18,
   "metadata": {},
   "outputs": [],
   "source": [
    "L = scipy.sparse.linalg.inv((I - alpha*A)) - I"
   ]
  },
  {
   "cell_type": "code",
   "execution_count": 19,
   "metadata": {},
   "outputs": [],
   "source": [
    "scipy.sparse.save_npz(\"Leontief_interactome_alpha01.npz\", L)"
   ]
  },
  {
   "cell_type": "code",
   "execution_count": 12,
   "metadata": {},
   "outputs": [],
   "source": [
    "L = scipy.sparse.load_npz(\"/home/kubicaj/calc/grexome-TIMC-Secondary-interactome/Interactome/scratch/Leontief_interactome_alpha01.npz\")"
   ]
  },
  {
   "cell_type": "code",
   "execution_count": 13,
   "metadata": {},
   "outputs": [
    {
     "name": "stderr",
     "output_type": "stream",
     "text": [
      "/home/kubicaj/python_venvs/pyEnv_PPI/lib64/python3.9/site-packages/scipy/sparse/linalg/_dsolve/linsolve.py:602: SparseEfficiencyWarning: splu converted its input to CSC format\n",
      "  return splu(A).solve\n",
      "/home/kubicaj/python_venvs/pyEnv_PPI/lib64/python3.9/site-packages/scipy/sparse/linalg/_matfuncs.py:76: SparseEfficiencyWarning: spsolve is more efficient when sparse b is in the CSC matrix format\n",
      "  Ainv = spsolve(A, I)\n"
     ]
    }
   ],
   "source": [
    "L_norm = scipy.sparse.linalg.inv((I - (alpha / 100)*A)) - I"
   ]
  },
  {
   "cell_type": "code",
   "execution_count": 14,
   "metadata": {},
   "outputs": [],
   "source": [
    "scipy.sparse.save_npz(\"Leontief_interactome_norm_alpha01_div100.npz\", L)"
   ]
  },
  {
   "cell_type": "code",
   "execution_count": 21,
   "metadata": {},
   "outputs": [],
   "source": [
    "scores_array = numpy.dot(L.todense(), causal_genes_array)"
   ]
  },
  {
   "cell_type": "code",
   "execution_count": 22,
   "metadata": {},
   "outputs": [],
   "source": [
    "ones_arr = numpy.ones(shape=L_norm.shape[0])"
   ]
  },
  {
   "cell_type": "code",
   "execution_count": 23,
   "metadata": {},
   "outputs": [],
   "source": [
    "norm_array = numpy.dot(L_norm.todense(), ones_arr)"
   ]
  },
  {
   "cell_type": "code",
   "execution_count": 24,
   "metadata": {},
   "outputs": [],
   "source": [
    "scores_array_normalized = numpy.squeeze(scores_array / norm_array)"
   ]
  },
  {
   "cell_type": "code",
   "execution_count": 25,
   "metadata": {},
   "outputs": [],
   "source": [
    "scores = dict(zip(interactome.nodes(), scores_array_normalized))"
   ]
  },
  {
   "cell_type": "code",
   "execution_count": 26,
   "metadata": {},
   "outputs": [],
   "source": [
    "scores_to_TSV(scores, out_path=pathlib.Path('/home/kubicaj/calc/grexome-TIMC-Secondary-interactome/Interactome/scratch'), file_name=pathlib.Path('scores_Leontief_alpha01_v3.tsv'))"
   ]
  },
  {
   "cell_type": "code",
   "execution_count": null,
   "metadata": {},
   "outputs": [],
   "source": []
  }
 ],
 "metadata": {
  "kernelspec": {
   "display_name": "pyEnv_PPI",
   "language": "python",
   "name": "python3"
  },
  "language_info": {
   "codemirror_mode": {
    "name": "ipython",
    "version": 3
   },
   "file_extension": ".py",
   "mimetype": "text/x-python",
   "name": "python",
   "nbconvert_exporter": "python",
   "pygments_lexer": "ipython3",
   "version": "3.9.18"
  }
 },
 "nbformat": 4,
 "nbformat_minor": 2
}
